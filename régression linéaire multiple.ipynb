{
 "cells": [
  {
   "cell_type": "markdown",
   "metadata": {},
   "source": [
    "# Chargement et exploitation des données"
   ]
  },
  {
   "cell_type": "code",
   "execution_count": 2,
   "metadata": {},
   "outputs": [],
   "source": [
    "import pandas as pd\n",
    "from sklearn.linear_model import LinearRegression\n",
    "import seaborn as sns\n",
    "import numpy as np\n",
    "import matplotlib.pyplot as plt\n",
    "from sklearn.metrics import mean_squared_error\n",
    "from sklearn.metrics import r2_score\n",
    "from sklearn.preprocessing import StandardScaler\n",
    "import statsmodels.api as sm\n",
    "from sklearn.linear_model import Ridge\n",
    "from sklearn.linear_model import Lasso\n",
    "%matplotlib inline"
   ]
  },
  {
   "cell_type": "code",
   "execution_count": 3,
   "metadata": {},
   "outputs": [],
   "source": [
    "#chargement des données\n",
    "Boston_Data = pd.read_csv('Boston_Data.csv',header=0)"
   ]
  },
  {
   "cell_type": "markdown",
   "metadata": {},
   "source": [
    "Après chargement de la base de donnée, on la visualise pour mieux le comprendre"
   ]
  },
  {
   "cell_type": "code",
   "execution_count": 7,
   "metadata": {},
   "outputs": [
    {
     "data": {
      "text/html": [
       "<div>\n",
       "<style scoped>\n",
       "    .dataframe tbody tr th:only-of-type {\n",
       "        vertical-align: middle;\n",
       "    }\n",
       "\n",
       "    .dataframe tbody tr th {\n",
       "        vertical-align: top;\n",
       "    }\n",
       "\n",
       "    .dataframe thead th {\n",
       "        text-align: right;\n",
       "    }\n",
       "</style>\n",
       "<table border=\"1\" class=\"dataframe\">\n",
       "  <thead>\n",
       "    <tr style=\"text-align: right;\">\n",
       "      <th></th>\n",
       "      <th>Unnamed: 0</th>\n",
       "      <th>R1</th>\n",
       "      <th>R2</th>\n",
       "      <th>R3</th>\n",
       "      <th>R4</th>\n",
       "      <th>R5</th>\n",
       "      <th>X1</th>\n",
       "      <th>X2</th>\n",
       "      <th>X3</th>\n",
       "      <th>X4</th>\n",
       "      <th>X5</th>\n",
       "      <th>X6</th>\n",
       "      <th>X7</th>\n",
       "      <th>X8</th>\n",
       "      <th>X9</th>\n",
       "      <th>X10</th>\n",
       "      <th>X11</th>\n",
       "      <th>X12</th>\n",
       "      <th>X13</th>\n",
       "      <th>Y</th>\n",
       "    </tr>\n",
       "  </thead>\n",
       "  <tbody>\n",
       "    <tr>\n",
       "      <th>0</th>\n",
       "      <td>0</td>\n",
       "      <td>-0.21</td>\n",
       "      <td>0.11</td>\n",
       "      <td>-0.65</td>\n",
       "      <td>-0.54</td>\n",
       "      <td>1.48</td>\n",
       "      <td>0.00632</td>\n",
       "      <td>18.0</td>\n",
       "      <td>2.31</td>\n",
       "      <td>0</td>\n",
       "      <td>0.538</td>\n",
       "      <td>6.575</td>\n",
       "      <td>65.2</td>\n",
       "      <td>4.0900</td>\n",
       "      <td>1</td>\n",
       "      <td>296</td>\n",
       "      <td>15.3</td>\n",
       "      <td>396.90</td>\n",
       "      <td>4.98</td>\n",
       "      <td>24.0</td>\n",
       "    </tr>\n",
       "    <tr>\n",
       "      <th>1</th>\n",
       "      <td>1</td>\n",
       "      <td>0.08</td>\n",
       "      <td>-0.61</td>\n",
       "      <td>-0.85</td>\n",
       "      <td>-0.36</td>\n",
       "      <td>-0.12</td>\n",
       "      <td>0.02731</td>\n",
       "      <td>0.0</td>\n",
       "      <td>7.07</td>\n",
       "      <td>0</td>\n",
       "      <td>0.469</td>\n",
       "      <td>6.421</td>\n",
       "      <td>78.9</td>\n",
       "      <td>4.9671</td>\n",
       "      <td>2</td>\n",
       "      <td>242</td>\n",
       "      <td>17.8</td>\n",
       "      <td>396.90</td>\n",
       "      <td>9.14</td>\n",
       "      <td>21.6</td>\n",
       "    </tr>\n",
       "    <tr>\n",
       "      <th>2</th>\n",
       "      <td>2</td>\n",
       "      <td>-1.32</td>\n",
       "      <td>0.95</td>\n",
       "      <td>-0.75</td>\n",
       "      <td>-0.99</td>\n",
       "      <td>-0.36</td>\n",
       "      <td>0.02729</td>\n",
       "      <td>0.0</td>\n",
       "      <td>7.07</td>\n",
       "      <td>0</td>\n",
       "      <td>0.469</td>\n",
       "      <td>7.185</td>\n",
       "      <td>61.1</td>\n",
       "      <td>4.9671</td>\n",
       "      <td>2</td>\n",
       "      <td>242</td>\n",
       "      <td>17.8</td>\n",
       "      <td>392.83</td>\n",
       "      <td>4.03</td>\n",
       "      <td>34.7</td>\n",
       "    </tr>\n",
       "  </tbody>\n",
       "</table>\n",
       "</div>"
      ],
      "text/plain": [
       "   Unnamed: 0    R1    R2    R3    R4    R5       X1    X2    X3  X4     X5  \\\n",
       "0           0 -0.21  0.11 -0.65 -0.54  1.48  0.00632  18.0  2.31   0  0.538   \n",
       "1           1  0.08 -0.61 -0.85 -0.36 -0.12  0.02731   0.0  7.07   0  0.469   \n",
       "2           2 -1.32  0.95 -0.75 -0.99 -0.36  0.02729   0.0  7.07   0  0.469   \n",
       "\n",
       "      X6    X7      X8  X9  X10   X11     X12   X13     Y  \n",
       "0  6.575  65.2  4.0900   1  296  15.3  396.90  4.98  24.0  \n",
       "1  6.421  78.9  4.9671   2  242  17.8  396.90  9.14  21.6  \n",
       "2  7.185  61.1  4.9671   2  242  17.8  392.83  4.03  34.7  "
      ]
     },
     "execution_count": 7,
     "metadata": {},
     "output_type": "execute_result"
    }
   ],
   "source": [
    "Boston_Data.head(3)"
   ]
  },
  {
   "cell_type": "markdown",
   "metadata": {},
   "source": [
    "Avant de commencer le traitement nous vérifions s'il y'a pas de valeurs null"
   ]
  },
  {
   "cell_type": "code",
   "execution_count": 10,
   "metadata": {},
   "outputs": [],
   "source": [
    "Boston_Data.isnull().sum()\n",
    "#Rendu : Pas de valeurs nulles"
   ]
  },
  {
   "cell_type": "markdown",
   "metadata": {},
   "source": [
    "### Création du modèle"
   ]
  },
  {
   "cell_type": "code",
   "execution_count": 5,
   "metadata": {},
   "outputs": [
    {
     "data": {
      "text/plain": [
       "<AxesSubplot:>"
      ]
     },
     "execution_count": 5,
     "metadata": {},
     "output_type": "execute_result"
    },
    {
     "data": {
      "image/png": "[encoded data removed]",
      "text/plain": [
       "<Figure size 432x288 with 2 Axes>"
      ]
     },
     "metadata": {
      "needs_background": "light"
     },
     "output_type": "display_data"
    }
   ],
   "source": [
    "#etude de la correlation\n",
    "matrice_corr = Boston_Data.corr().round(1)\n",
    "sns.heatmap(data=matrice_corr, annot=True)"
   ]
  },
  {
   "cell_type": "code",
   "execution_count": 35,
   "metadata": {},
   "outputs": [],
   "source": [
    "# Y variable expliquée\n",
    "# X variable explicative.\n",
    "# On remarque que Y a une forte corrélation avec les variables X13(-0.7), X6(0.7), X10(-0.5), X11(-0.5), X3(0.5)"
   ]
  },
  {
   "cell_type": "markdown",
   "metadata": {},
   "source": [
    "### On divise notre jeu de données en 2 parties (75%, pour l’apprentissage et les 25% restant pour le test"
   ]
  },
  {
   "cell_type": "code",
   "execution_count": 6,
   "metadata": {},
   "outputs": [
    {
     "name": "stdout",
     "output_type": "stream",
     "text": [
      "(379, 18)\n",
      "(127, 18)\n",
      "(379,)\n",
      "(127,)\n"
     ]
    }
   ],
   "source": [
    "X = Boston_Data.drop(['Unnamed: 0','Y'],axis=1)\n",
    "Y = Boston_Data['Y']\n",
    "\n",
    "#base d'apprentissage et base de test\n",
    "from sklearn.model_selection import train_test_split\n",
    "\n",
    "X_train, X_test, Y_train, Y_test = train_test_split(X, Y, test_size = 0.25, random_state=42)\n",
    "print(X_train.shape)\n",
    "print(X_test.shape)\n",
    "print(Y_train.shape)\n",
    "print(Y_test.shape)"
   ]
  },
  {
   "cell_type": "code",
   "execution_count": 8,
   "metadata": {},
   "outputs": [],
   "source": [
    "scaler = StandardScaler()\n",
    "X_train_n = scaler.fit_transform(X_train)\n",
    "X_test_n = scaler.transform(X_test)"
   ]
  },
  {
   "cell_type": "markdown",
   "metadata": {},
   "source": [
    "********************"
   ]
  },
  {
   "cell_type": "markdown",
   "metadata": {},
   "source": [
    "# Régression linéaire multiple"
   ]
  },
  {
   "cell_type": "markdown",
   "metadata": {},
   "source": [
    "### Entrainement du modèle"
   ]
  },
  {
   "cell_type": "code",
   "execution_count": 9,
   "metadata": {},
   "outputs": [
    {
     "data": {
      "text/plain": [
       "LinearRegression()"
      ]
     },
     "execution_count": 9,
     "metadata": {},
     "output_type": "execute_result"
    }
   ],
   "source": [
    "#entrainement du modèle\n",
    "model = LinearRegression()\n",
    "model.fit(X_train_n, Y_train)"
   ]
  },
  {
   "cell_type": "markdown",
   "metadata": {},
   "source": [
    "### Évaluation du modèle de régression linéaire"
   ]
  },
  {
   "cell_type": "markdown",
   "metadata": {},
   "source": [
    "On utilise deux métriques pour l’évaluation L’erreur quadratique moyenne (l’erreur d’estimation) et le R-square (la qualité du modèle de régression)"
   ]
  },
  {
   "cell_type": "code",
   "execution_count": 10,
   "metadata": {},
   "outputs": [
    {
     "name": "stdout",
     "output_type": "stream",
     "text": [
      "La performance du modèle sur la base dapprentissage\n",
      "--------------------------------------\n",
      "Lerreur quadratique moyenne est 4.696865016589693\n",
      "le score R2 est 0.7512391717977318\n",
      "\n",
      "\n",
      "La performance du modèle sur la base de test\n",
      "--------------------------------------\n",
      "Lerreur quadratique moyenne est 4.728195753598606\n",
      "le score R2 est 0.68075471998808\n"
     ]
    }
   ],
   "source": [
    "# Evaluation du training set\n",
    "y_train_predict = model.predict(X_train_n)\n",
    "error = (np.sqrt(mean_squared_error(Y_train, y_train_predict)))\n",
    "score = r2_score(Y_train, y_train_predict)\n",
    "\n",
    "print('La performance du modèle sur la base dapprentissage')\n",
    "print('--------------------------------------')\n",
    "print('Lerreur quadratique moyenne est {}'.format(error))\n",
    "print('le score R2 est {}'.format(score))\n",
    "print('\\n')\n",
    " \n",
    "# model evaluation du testing set\n",
    "y_test_predict = model.predict(X_test_n)\n",
    "error = (np.sqrt(mean_squared_error(Y_test, y_test_predict)))\n",
    "score = r2_score(Y_test, y_test_predict)\n",
    " \n",
    "print('La performance du modèle sur la base de test')\n",
    "print('--------------------------------------')\n",
    "print('Lerreur quadratique moyenne est {}'.format(error))\n",
    "print('le score R2 est {}'.format(score))"
   ]
  },
  {
   "cell_type": "code",
   "execution_count": 11,
   "metadata": {},
   "outputs": [
    {
     "data": {
      "image/png": "[encoded data removed]",
      "text/plain": [
       "<Figure size 432x288 with 1 Axes>"
      ]
     },
     "metadata": {
      "needs_background": "light"
     },
     "output_type": "display_data"
    }
   ],
   "source": [
    "plt.plot(Y_train, y_train_predict,'.')\n",
    "plt.show()"
   ]
  },
  {
   "cell_type": "code",
   "execution_count": 12,
   "metadata": {},
   "outputs": [
    {
     "data": {
      "image/png": "[encoded data removed]",
      "text/plain": [
       "<Figure size 432x288 with 1 Axes>"
      ]
     },
     "metadata": {
      "needs_background": "light"
     },
     "output_type": "display_data"
    }
   ],
   "source": [
    "plt.plot(Y_test, y_test_predict,'.')\n",
    "plt.show()"
   ]
  },
  {
   "cell_type": "markdown",
   "metadata": {},
   "source": [
    "**********"
   ]
  },
  {
   "cell_type": "markdown",
   "metadata": {},
   "source": [
    "# Méthode de sélection de variable pas-à-pas descendante"
   ]
  },
  {
   "cell_type": "code",
   "execution_count": 13,
   "metadata": {},
   "outputs": [
    {
     "data": {
      "text/plain": [
       "Index(['R1', 'R2', 'R3', 'R4', 'R5', 'X1', 'X2', 'X3', 'X4', 'X5', 'X6', 'X7',\n",
       "       'X8', 'X9', 'X10', 'X11', 'X12', 'X13'],\n",
       "      dtype='object')"
      ]
     },
     "execution_count": 13,
     "metadata": {},
     "output_type": "execute_result"
    }
   ],
   "source": [
    "Boston_Data.drop(['Unnamed: 0','Y'],axis=1).columns"
   ]
  },
  {
   "cell_type": "code",
   "execution_count": 14,
   "metadata": {},
   "outputs": [],
   "source": [
    "Xppd_train_n = pd.DataFrame(np.c_[X_train_n], columns = Boston_Data.drop(['Unnamed: 0','Y'],axis=1).columns)"
   ]
  },
  {
   "cell_type": "code",
   "execution_count": 15,
   "metadata": {},
   "outputs": [
    {
     "data": {
      "text/plain": [
       "pandas.core.frame.DataFrame"
      ]
     },
     "execution_count": 15,
     "metadata": {},
     "output_type": "execute_result"
    }
   ],
   "source": [
    "type(Xppd_train_n)"
   ]
  },
  {
   "cell_type": "markdown",
   "metadata": {},
   "source": [
    "#### Ajout de la colonne \" const \" constituer de 1"
   ]
  },
  {
   "cell_type": "code",
   "execution_count": 16,
   "metadata": {},
   "outputs": [],
   "source": [
    "Xppd_train_n=sm.tools.tools.add_constant(Xppd_train_n , prepend=True , has_constant='skip')"
   ]
  },
  {
   "cell_type": "code",
   "execution_count": 17,
   "metadata": {},
   "outputs": [
    {
     "data": {
      "text/html": [
       "<div>\n",
       "<style scoped>\n",
       "    .dataframe tbody tr th:only-of-type {\n",
       "        vertical-align: middle;\n",
       "    }\n",
       "\n",
       "    .dataframe tbody tr th {\n",
       "        vertical-align: top;\n",
       "    }\n",
       "\n",
       "    .dataframe thead th {\n",
       "        text-align: right;\n",
       "    }\n",
       "</style>\n",
       "<table border=\"1\" class=\"dataframe\">\n",
       "  <thead>\n",
       "    <tr style=\"text-align: right;\">\n",
       "      <th></th>\n",
       "      <th>const</th>\n",
       "      <th>R1</th>\n",
       "      <th>R2</th>\n",
       "      <th>R3</th>\n",
       "      <th>R4</th>\n",
       "      <th>R5</th>\n",
       "      <th>X1</th>\n",
       "      <th>X2</th>\n",
       "      <th>X3</th>\n",
       "      <th>X4</th>\n",
       "      <th>X5</th>\n",
       "      <th>X6</th>\n",
       "      <th>X7</th>\n",
       "      <th>X8</th>\n",
       "      <th>X9</th>\n",
       "      <th>X10</th>\n",
       "      <th>X11</th>\n",
       "      <th>X12</th>\n",
       "      <th>X13</th>\n",
       "    </tr>\n",
       "  </thead>\n",
       "  <tbody>\n",
       "    <tr>\n",
       "      <th>0</th>\n",
       "      <td>1.0</td>\n",
       "      <td>-1.692906</td>\n",
       "      <td>0.245167</td>\n",
       "      <td>-0.393282</td>\n",
       "      <td>1.390237</td>\n",
       "      <td>1.175517</td>\n",
       "      <td>-0.406795</td>\n",
       "      <td>-0.502812</td>\n",
       "      <td>-1.247076</td>\n",
       "      <td>-0.287849</td>\n",
       "      <td>-0.591174</td>\n",
       "      <td>1.156255</td>\n",
       "      <td>0.833235</td>\n",
       "      <td>-0.503753</td>\n",
       "      <td>-0.740571</td>\n",
       "      <td>-1.280208</td>\n",
       "      <td>-0.205157</td>\n",
       "      <td>0.404512</td>\n",
       "      <td>-1.077756</td>\n",
       "    </tr>\n",
       "    <tr>\n",
       "      <th>1</th>\n",
       "      <td>1.0</td>\n",
       "      <td>1.132752</td>\n",
       "      <td>0.867318</td>\n",
       "      <td>0.046312</td>\n",
       "      <td>-0.403390</td>\n",
       "      <td>0.173093</td>\n",
       "      <td>0.007992</td>\n",
       "      <td>-0.502812</td>\n",
       "      <td>1.218283</td>\n",
       "      <td>3.474042</td>\n",
       "      <td>2.628380</td>\n",
       "      <td>-0.238475</td>\n",
       "      <td>0.486246</td>\n",
       "      <td>-0.956440</td>\n",
       "      <td>-0.507741</td>\n",
       "      <td>-0.013937</td>\n",
       "      <td>-1.576252</td>\n",
       "      <td>-3.098037</td>\n",
       "      <td>0.351165</td>\n",
       "    </tr>\n",
       "    <tr>\n",
       "      <th>2</th>\n",
       "      <td>1.0</td>\n",
       "      <td>0.478280</td>\n",
       "      <td>1.375407</td>\n",
       "      <td>0.035846</td>\n",
       "      <td>0.100764</td>\n",
       "      <td>-0.630738</td>\n",
       "      <td>-0.413450</td>\n",
       "      <td>0.364381</td>\n",
       "      <td>-1.121792</td>\n",
       "      <td>-0.287849</td>\n",
       "      <td>-0.970291</td>\n",
       "      <td>2.080976</td>\n",
       "      <td>-0.167973</td>\n",
       "      <td>0.441388</td>\n",
       "      <td>-0.507741</td>\n",
       "      <td>-1.141522</td>\n",
       "      <td>-1.487795</td>\n",
       "      <td>0.326591</td>\n",
       "      <td>-1.226252</td>\n",
       "    </tr>\n",
       "    <tr>\n",
       "      <th>3</th>\n",
       "      <td>1.0</td>\n",
       "      <td>1.080810</td>\n",
       "      <td>-0.615475</td>\n",
       "      <td>-0.403748</td>\n",
       "      <td>1.516275</td>\n",
       "      <td>0.608107</td>\n",
       "      <td>-0.371107</td>\n",
       "      <td>-0.502812</td>\n",
       "      <td>2.092391</td>\n",
       "      <td>-0.287849</td>\n",
       "      <td>0.190598</td>\n",
       "      <td>-0.987986</td>\n",
       "      <td>0.956127</td>\n",
       "      <td>-0.950895</td>\n",
       "      <td>-0.856986</td>\n",
       "      <td>-1.310358</td>\n",
       "      <td>0.369819</td>\n",
       "      <td>0.005983</td>\n",
       "      <td>2.065870</td>\n",
       "    </tr>\n",
       "    <tr>\n",
       "      <th>4</th>\n",
       "      <td>1.0</td>\n",
       "      <td>-0.134639</td>\n",
       "      <td>-1.019873</td>\n",
       "      <td>2.139618</td>\n",
       "      <td>-0.636077</td>\n",
       "      <td>-1.585879</td>\n",
       "      <td>-0.409661</td>\n",
       "      <td>-0.502812</td>\n",
       "      <td>-1.134753</td>\n",
       "      <td>-0.287849</td>\n",
       "      <td>-0.826546</td>\n",
       "      <td>0.013216</td>\n",
       "      <td>-1.877617</td>\n",
       "      <td>0.687804</td>\n",
       "      <td>-0.624156</td>\n",
       "      <td>0.148869</td>\n",
       "      <td>-0.603217</td>\n",
       "      <td>0.188141</td>\n",
       "      <td>-0.724729</td>\n",
       "    </tr>\n",
       "    <tr>\n",
       "      <th>...</th>\n",
       "      <td>...</td>\n",
       "      <td>...</td>\n",
       "      <td>...</td>\n",
       "      <td>...</td>\n",
       "      <td>...</td>\n",
       "      <td>...</td>\n",
       "      <td>...</td>\n",
       "      <td>...</td>\n",
       "      <td>...</td>\n",
       "      <td>...</td>\n",
       "      <td>...</td>\n",
       "      <td>...</td>\n",
       "      <td>...</td>\n",
       "      <td>...</td>\n",
       "      <td>...</td>\n",
       "      <td>...</td>\n",
       "      <td>...</td>\n",
       "      <td>...</td>\n",
       "      <td>...</td>\n",
       "    </tr>\n",
       "    <tr>\n",
       "      <th>374</th>\n",
       "      <td>1.0</td>\n",
       "      <td>-0.082696</td>\n",
       "      <td>-1.144303</td>\n",
       "      <td>0.684771</td>\n",
       "      <td>-1.450481</td>\n",
       "      <td>-0.082242</td>\n",
       "      <td>-0.397140</td>\n",
       "      <td>-0.502812</td>\n",
       "      <td>-0.368648</td>\n",
       "      <td>-0.287849</td>\n",
       "      <td>-0.322177</td>\n",
       "      <td>-0.677892</td>\n",
       "      <td>0.822392</td>\n",
       "      <td>-0.735808</td>\n",
       "      <td>-0.507741</td>\n",
       "      <td>-0.128504</td>\n",
       "      <td>1.165939</td>\n",
       "      <td>0.422247</td>\n",
       "      <td>0.861093</td>\n",
       "    </tr>\n",
       "    <tr>\n",
       "      <th>375</th>\n",
       "      <td>1.0</td>\n",
       "      <td>0.924983</td>\n",
       "      <td>0.608088</td>\n",
       "      <td>-1.115473</td>\n",
       "      <td>-0.083446</td>\n",
       "      <td>-0.252465</td>\n",
       "      <td>-0.381729</td>\n",
       "      <td>0.364381</td>\n",
       "      <td>-0.599055</td>\n",
       "      <td>-0.287849</td>\n",
       "      <td>-0.792921</td>\n",
       "      <td>-0.650081</td>\n",
       "      <td>-0.977614</td>\n",
       "      <td>0.315455</td>\n",
       "      <td>-0.740571</td>\n",
       "      <td>-1.099312</td>\n",
       "      <td>0.148674</td>\n",
       "      <td>0.341924</td>\n",
       "      <td>0.068182</td>\n",
       "    </tr>\n",
       "    <tr>\n",
       "      <th>376</th>\n",
       "      <td>1.0</td>\n",
       "      <td>0.353618</td>\n",
       "      <td>0.670303</td>\n",
       "      <td>-0.874742</td>\n",
       "      <td>-0.102836</td>\n",
       "      <td>-0.091699</td>\n",
       "      <td>-0.415951</td>\n",
       "      <td>2.965961</td>\n",
       "      <td>-1.311878</td>\n",
       "      <td>-0.287849</td>\n",
       "      <td>-1.036700</td>\n",
       "      <td>0.433164</td>\n",
       "      <td>-1.425808</td>\n",
       "      <td>2.171042</td>\n",
       "      <td>-0.624156</td>\n",
       "      <td>-0.755610</td>\n",
       "      <td>-0.558988</td>\n",
       "      <td>0.368126</td>\n",
       "      <td>-0.913851</td>\n",
       "    </tr>\n",
       "    <tr>\n",
       "      <th>377</th>\n",
       "      <td>1.0</td>\n",
       "      <td>-1.007268</td>\n",
       "      <td>-1.393164</td>\n",
       "      <td>1.448827</td>\n",
       "      <td>0.537052</td>\n",
       "      <td>0.069067</td>\n",
       "      <td>0.926381</td>\n",
       "      <td>-0.502812</td>\n",
       "      <td>1.005156</td>\n",
       "      <td>-0.287849</td>\n",
       "      <td>1.527175</td>\n",
       "      <td>0.424821</td>\n",
       "      <td>0.919983</td>\n",
       "      <td>-0.776711</td>\n",
       "      <td>1.704142</td>\n",
       "      <td>1.571917</td>\n",
       "      <td>0.856337</td>\n",
       "      <td>-2.848141</td>\n",
       "      <td>1.506909</td>\n",
       "    </tr>\n",
       "    <tr>\n",
       "      <th>378</th>\n",
       "      <td>1.0</td>\n",
       "      <td>0.114684</td>\n",
       "      <td>-0.231815</td>\n",
       "      <td>-1.262004</td>\n",
       "      <td>1.089683</td>\n",
       "      <td>1.118776</td>\n",
       "      <td>-0.390207</td>\n",
       "      <td>-0.502812</td>\n",
       "      <td>-0.368648</td>\n",
       "      <td>-0.287849</td>\n",
       "      <td>-0.322177</td>\n",
       "      <td>0.113336</td>\n",
       "      <td>0.587451</td>\n",
       "      <td>-0.497070</td>\n",
       "      <td>-0.507741</td>\n",
       "      <td>-0.128504</td>\n",
       "      <td>1.165939</td>\n",
       "      <td>-3.294956</td>\n",
       "      <td>-0.263832</td>\n",
       "    </tr>\n",
       "  </tbody>\n",
       "</table>\n",
       "<p>379 rows × 19 columns</p>\n",
       "</div>"
      ],
      "text/plain": [
       "     const        R1        R2        R3        R4        R5        X1  \\\n",
       "0      1.0 -1.692906  0.245167 -0.393282  1.390237  1.175517 -0.406795   \n",
       "1      1.0  1.132752  0.867318  0.046312 -0.403390  0.173093  0.007992   \n",
       "2      1.0  0.478280  1.375407  0.035846  0.100764 -0.630738 -0.413450   \n",
       "3      1.0  1.080810 -0.615475 -0.403748  1.516275  0.608107 -0.371107   \n",
       "4      1.0 -0.134639 -1.019873  2.139618 -0.636077 -1.585879 -0.409661   \n",
       "..     ...       ...       ...       ...       ...       ...       ...   \n",
       "374    1.0 -0.082696 -1.144303  0.684771 -1.450481 -0.082242 -0.397140   \n",
       "375    1.0  0.924983  0.608088 -1.115473 -0.083446 -0.252465 -0.381729   \n",
       "376    1.0  0.353618  0.670303 -0.874742 -0.102836 -0.091699 -0.415951   \n",
       "377    1.0 -1.007268 -1.393164  1.448827  0.537052  0.069067  0.926381   \n",
       "378    1.0  0.114684 -0.231815 -1.262004  1.089683  1.118776 -0.390207   \n",
       "\n",
       "           X2        X3        X4        X5        X6        X7        X8  \\\n",
       "0   -0.502812 -1.247076 -0.287849 -0.591174  1.156255  0.833235 -0.503753   \n",
       "1   -0.502812  1.218283  3.474042  2.628380 -0.238475  0.486246 -0.956440   \n",
       "2    0.364381 -1.121792 -0.287849 -0.970291  2.080976 -0.167973  0.441388   \n",
       "3   -0.502812  2.092391 -0.287849  0.190598 -0.987986  0.956127 -0.950895   \n",
       "4   -0.502812 -1.134753 -0.287849 -0.826546  0.013216 -1.877617  0.687804   \n",
       "..        ...       ...       ...       ...       ...       ...       ...   \n",
       "374 -0.502812 -0.368648 -0.287849 -0.322177 -0.677892  0.822392 -0.735808   \n",
       "375  0.364381 -0.599055 -0.287849 -0.792921 -0.650081 -0.977614  0.315455   \n",
       "376  2.965961 -1.311878 -0.287849 -1.036700  0.433164 -1.425808  2.171042   \n",
       "377 -0.502812  1.005156 -0.287849  1.527175  0.424821  0.919983 -0.776711   \n",
       "378 -0.502812 -0.368648 -0.287849 -0.322177  0.113336  0.587451 -0.497070   \n",
       "\n",
       "           X9       X10       X11       X12       X13  \n",
       "0   -0.740571 -1.280208 -0.205157  0.404512 -1.077756  \n",
       "1   -0.507741 -0.013937 -1.576252 -3.098037  0.351165  \n",
       "2   -0.507741 -1.141522 -1.487795  0.326591 -1.226252  \n",
       "3   -0.856986 -1.310358  0.369819  0.005983  2.065870  \n",
       "4   -0.624156  0.148869 -0.603217  0.188141 -0.724729  \n",
       "..        ...       ...       ...       ...       ...  \n",
       "374 -0.507741 -0.128504  1.165939  0.422247  0.861093  \n",
       "375 -0.740571 -1.099312  0.148674  0.341924  0.068182  \n",
       "376 -0.624156 -0.755610 -0.558988  0.368126 -0.913851  \n",
       "377  1.704142  1.571917  0.856337 -2.848141  1.506909  \n",
       "378 -0.507741 -0.128504  1.165939 -3.294956 -0.263832  \n",
       "\n",
       "[379 rows x 19 columns]"
      ]
     },
     "execution_count": 17,
     "metadata": {},
     "output_type": "execute_result"
    }
   ],
   "source": [
    "Xppd_train_n"
   ]
  },
  {
   "cell_type": "markdown",
   "metadata": {},
   "source": [
    "#### instanciation et détails"
   ]
  },
  {
   "cell_type": "code",
   "execution_count": 18,
   "metadata": {},
   "outputs": [
    {
     "name": "stdout",
     "output_type": "stream",
     "text": [
      "                            OLS Regression Results                            \n",
      "==============================================================================\n",
      "Dep. Variable:                      y   R-squared:                       0.743\n",
      "Model:                            OLS   Adj. R-squared:                  0.737\n",
      "Method:                 Least Squares   F-statistic:                     118.6\n",
      "Date:                Tue, 02 Mar 2021   Prob (F-statistic):          3.51e-103\n",
      "Time:                        12:37:17   Log-Likelihood:                -1130.2\n",
      "No. Observations:                 379   AIC:                             2280.\n",
      "Df Residuals:                     369   BIC:                             2320.\n",
      "Df Model:                           9                                         \n",
      "Covariance Type:            nonrobust                                         \n",
      "==============================================================================\n",
      "                 coef    std err          t      P>|t|      [0.025      0.975]\n",
      "------------------------------------------------------------------------------\n",
      "const         22.9079      0.248     92.188      0.000      22.419      23.397\n",
      "X1            -1.0293      0.327     -3.150      0.002      -1.672      -0.387\n",
      "X4             0.7943      0.258      3.080      0.002       0.287       1.302\n",
      "X5            -2.2208      0.475     -4.677      0.000      -3.154      -1.287\n",
      "X6             3.2090      0.332      9.655      0.000       2.555       3.863\n",
      "X8            -2.5051      0.403     -6.223      0.000      -3.297      -1.714\n",
      "X9             1.0957      0.411      2.667      0.008       0.288       1.904\n",
      "X11           -2.3322      0.313     -7.451      0.000      -2.948      -1.717\n",
      "X12            1.1697      0.278      4.207      0.000       0.623       1.716\n",
      "X13           -3.7288      0.395     -9.439      0.000      -4.506      -2.952\n",
      "==============================================================================\n",
      "Omnibus:                      119.301   Durbin-Watson:                   2.120\n",
      "Prob(Omnibus):                  0.000   Jarque-Bera (JB):              480.976\n",
      "Skew:                           1.329   Prob(JB):                    3.61e-105\n",
      "Kurtosis:                       7.837   Cond. No.                         4.78\n",
      "==============================================================================\n",
      "\n",
      "Notes:\n",
      "[1] Standard Errors assume that the covariance matrix of the errors is correctly specified.\n"
     ]
    }
   ],
   "source": [
    "reg = sm.OLS(np.array(Y_train), Xppd_train_n.drop(['R3','X7','X3','R1','R2','R5','R4','X2','X10'],axis=1)).fit()\n",
    "print(reg.summary())"
   ]
  },
  {
   "cell_type": "markdown",
   "metadata": {},
   "source": [
    "#### Évaluation du modèle de régression linéaire"
   ]
  },
  {
   "cell_type": "code",
   "execution_count": 19,
   "metadata": {},
   "outputs": [],
   "source": [
    "Xppd_train_n = Xppd_train_n.drop(['R3','R2','R5','X7','X3','R4','R1','X10','X2'],axis=1)"
   ]
  },
  {
   "cell_type": "code",
   "execution_count": 20,
   "metadata": {},
   "outputs": [
    {
     "data": {
      "text/html": [
       "<div>\n",
       "<style scoped>\n",
       "    .dataframe tbody tr th:only-of-type {\n",
       "        vertical-align: middle;\n",
       "    }\n",
       "\n",
       "    .dataframe tbody tr th {\n",
       "        vertical-align: top;\n",
       "    }\n",
       "\n",
       "    .dataframe thead th {\n",
       "        text-align: right;\n",
       "    }\n",
       "</style>\n",
       "<table border=\"1\" class=\"dataframe\">\n",
       "  <thead>\n",
       "    <tr style=\"text-align: right;\">\n",
       "      <th></th>\n",
       "      <th>const</th>\n",
       "      <th>X1</th>\n",
       "      <th>X4</th>\n",
       "      <th>X5</th>\n",
       "      <th>X6</th>\n",
       "      <th>X8</th>\n",
       "      <th>X9</th>\n",
       "      <th>X11</th>\n",
       "      <th>X12</th>\n",
       "      <th>X13</th>\n",
       "    </tr>\n",
       "  </thead>\n",
       "  <tbody>\n",
       "    <tr>\n",
       "      <th>0</th>\n",
       "      <td>1.0</td>\n",
       "      <td>-0.406795</td>\n",
       "      <td>-0.287849</td>\n",
       "      <td>-0.591174</td>\n",
       "      <td>1.156255</td>\n",
       "      <td>-0.503753</td>\n",
       "      <td>-0.740571</td>\n",
       "      <td>-0.205157</td>\n",
       "      <td>0.404512</td>\n",
       "      <td>-1.077756</td>\n",
       "    </tr>\n",
       "    <tr>\n",
       "      <th>1</th>\n",
       "      <td>1.0</td>\n",
       "      <td>0.007992</td>\n",
       "      <td>3.474042</td>\n",
       "      <td>2.628380</td>\n",
       "      <td>-0.238475</td>\n",
       "      <td>-0.956440</td>\n",
       "      <td>-0.507741</td>\n",
       "      <td>-1.576252</td>\n",
       "      <td>-3.098037</td>\n",
       "      <td>0.351165</td>\n",
       "    </tr>\n",
       "    <tr>\n",
       "      <th>2</th>\n",
       "      <td>1.0</td>\n",
       "      <td>-0.413450</td>\n",
       "      <td>-0.287849</td>\n",
       "      <td>-0.970291</td>\n",
       "      <td>2.080976</td>\n",
       "      <td>0.441388</td>\n",
       "      <td>-0.507741</td>\n",
       "      <td>-1.487795</td>\n",
       "      <td>0.326591</td>\n",
       "      <td>-1.226252</td>\n",
       "    </tr>\n",
       "    <tr>\n",
       "      <th>3</th>\n",
       "      <td>1.0</td>\n",
       "      <td>-0.371107</td>\n",
       "      <td>-0.287849</td>\n",
       "      <td>0.190598</td>\n",
       "      <td>-0.987986</td>\n",
       "      <td>-0.950895</td>\n",
       "      <td>-0.856986</td>\n",
       "      <td>0.369819</td>\n",
       "      <td>0.005983</td>\n",
       "      <td>2.065870</td>\n",
       "    </tr>\n",
       "    <tr>\n",
       "      <th>4</th>\n",
       "      <td>1.0</td>\n",
       "      <td>-0.409661</td>\n",
       "      <td>-0.287849</td>\n",
       "      <td>-0.826546</td>\n",
       "      <td>0.013216</td>\n",
       "      <td>0.687804</td>\n",
       "      <td>-0.624156</td>\n",
       "      <td>-0.603217</td>\n",
       "      <td>0.188141</td>\n",
       "      <td>-0.724729</td>\n",
       "    </tr>\n",
       "    <tr>\n",
       "      <th>...</th>\n",
       "      <td>...</td>\n",
       "      <td>...</td>\n",
       "      <td>...</td>\n",
       "      <td>...</td>\n",
       "      <td>...</td>\n",
       "      <td>...</td>\n",
       "      <td>...</td>\n",
       "      <td>...</td>\n",
       "      <td>...</td>\n",
       "      <td>...</td>\n",
       "    </tr>\n",
       "    <tr>\n",
       "      <th>374</th>\n",
       "      <td>1.0</td>\n",
       "      <td>-0.397140</td>\n",
       "      <td>-0.287849</td>\n",
       "      <td>-0.322177</td>\n",
       "      <td>-0.677892</td>\n",
       "      <td>-0.735808</td>\n",
       "      <td>-0.507741</td>\n",
       "      <td>1.165939</td>\n",
       "      <td>0.422247</td>\n",
       "      <td>0.861093</td>\n",
       "    </tr>\n",
       "    <tr>\n",
       "      <th>375</th>\n",
       "      <td>1.0</td>\n",
       "      <td>-0.381729</td>\n",
       "      <td>-0.287849</td>\n",
       "      <td>-0.792921</td>\n",
       "      <td>-0.650081</td>\n",
       "      <td>0.315455</td>\n",
       "      <td>-0.740571</td>\n",
       "      <td>0.148674</td>\n",
       "      <td>0.341924</td>\n",
       "      <td>0.068182</td>\n",
       "    </tr>\n",
       "    <tr>\n",
       "      <th>376</th>\n",
       "      <td>1.0</td>\n",
       "      <td>-0.415951</td>\n",
       "      <td>-0.287849</td>\n",
       "      <td>-1.036700</td>\n",
       "      <td>0.433164</td>\n",
       "      <td>2.171042</td>\n",
       "      <td>-0.624156</td>\n",
       "      <td>-0.558988</td>\n",
       "      <td>0.368126</td>\n",
       "      <td>-0.913851</td>\n",
       "    </tr>\n",
       "    <tr>\n",
       "      <th>377</th>\n",
       "      <td>1.0</td>\n",
       "      <td>0.926381</td>\n",
       "      <td>-0.287849</td>\n",
       "      <td>1.527175</td>\n",
       "      <td>0.424821</td>\n",
       "      <td>-0.776711</td>\n",
       "      <td>1.704142</td>\n",
       "      <td>0.856337</td>\n",
       "      <td>-2.848141</td>\n",
       "      <td>1.506909</td>\n",
       "    </tr>\n",
       "    <tr>\n",
       "      <th>378</th>\n",
       "      <td>1.0</td>\n",
       "      <td>-0.390207</td>\n",
       "      <td>-0.287849</td>\n",
       "      <td>-0.322177</td>\n",
       "      <td>0.113336</td>\n",
       "      <td>-0.497070</td>\n",
       "      <td>-0.507741</td>\n",
       "      <td>1.165939</td>\n",
       "      <td>-3.294956</td>\n",
       "      <td>-0.263832</td>\n",
       "    </tr>\n",
       "  </tbody>\n",
       "</table>\n",
       "<p>379 rows × 10 columns</p>\n",
       "</div>"
      ],
      "text/plain": [
       "     const        X1        X4        X5        X6        X8        X9  \\\n",
       "0      1.0 -0.406795 -0.287849 -0.591174  1.156255 -0.503753 -0.740571   \n",
       "1      1.0  0.007992  3.474042  2.628380 -0.238475 -0.956440 -0.507741   \n",
       "2      1.0 -0.413450 -0.287849 -0.970291  2.080976  0.441388 -0.507741   \n",
       "3      1.0 -0.371107 -0.287849  0.190598 -0.987986 -0.950895 -0.856986   \n",
       "4      1.0 -0.409661 -0.287849 -0.826546  0.013216  0.687804 -0.624156   \n",
       "..     ...       ...       ...       ...       ...       ...       ...   \n",
       "374    1.0 -0.397140 -0.287849 -0.322177 -0.677892 -0.735808 -0.507741   \n",
       "375    1.0 -0.381729 -0.287849 -0.792921 -0.650081  0.315455 -0.740571   \n",
       "376    1.0 -0.415951 -0.287849 -1.036700  0.433164  2.171042 -0.624156   \n",
       "377    1.0  0.926381 -0.287849  1.527175  0.424821 -0.776711  1.704142   \n",
       "378    1.0 -0.390207 -0.287849 -0.322177  0.113336 -0.497070 -0.507741   \n",
       "\n",
       "          X11       X12       X13  \n",
       "0   -0.205157  0.404512 -1.077756  \n",
       "1   -1.576252 -3.098037  0.351165  \n",
       "2   -1.487795  0.326591 -1.226252  \n",
       "3    0.369819  0.005983  2.065870  \n",
       "4   -0.603217  0.188141 -0.724729  \n",
       "..        ...       ...       ...  \n",
       "374  1.165939  0.422247  0.861093  \n",
       "375  0.148674  0.341924  0.068182  \n",
       "376 -0.558988  0.368126 -0.913851  \n",
       "377  0.856337 -2.848141  1.506909  \n",
       "378  1.165939 -3.294956 -0.263832  \n",
       "\n",
       "[379 rows x 10 columns]"
      ]
     },
     "execution_count": 20,
     "metadata": {},
     "output_type": "execute_result"
    }
   ],
   "source": [
    "Xppd_train_n"
   ]
  },
  {
   "cell_type": "code",
   "execution_count": null,
   "metadata": {},
   "outputs": [],
   "source": []
  },
  {
   "cell_type": "code",
   "execution_count": 21,
   "metadata": {},
   "outputs": [],
   "source": [
    "Xppd_test_n = pd.DataFrame(X_test_n, columns = Boston_Data.drop(['Unnamed: 0','Y'],axis=1).columns)"
   ]
  },
  {
   "cell_type": "code",
   "execution_count": 22,
   "metadata": {},
   "outputs": [
    {
     "data": {
      "text/plain": [
       "pandas.core.frame.DataFrame"
      ]
     },
     "execution_count": 22,
     "metadata": {},
     "output_type": "execute_result"
    }
   ],
   "source": [
    "type(Xppd_test_n)"
   ]
  },
  {
   "cell_type": "code",
   "execution_count": 23,
   "metadata": {},
   "outputs": [],
   "source": [
    "Xppd_test_n = Xppd_test_n.drop(['R3','R2','R5','X7','X3','R4','R1','X10','X2'],axis=1)"
   ]
  },
  {
   "cell_type": "code",
   "execution_count": 24,
   "metadata": {},
   "outputs": [],
   "source": [
    "Xppd_test_n=sm.tools.tools.add_constant(Xppd_test_n , prepend=True , has_constant='skip')"
   ]
  },
  {
   "cell_type": "code",
   "execution_count": 25,
   "metadata": {},
   "outputs": [
    {
     "data": {
      "text/html": [
       "<div>\n",
       "<style scoped>\n",
       "    .dataframe tbody tr th:only-of-type {\n",
       "        vertical-align: middle;\n",
       "    }\n",
       "\n",
       "    .dataframe tbody tr th {\n",
       "        vertical-align: top;\n",
       "    }\n",
       "\n",
       "    .dataframe thead th {\n",
       "        text-align: right;\n",
       "    }\n",
       "</style>\n",
       "<table border=\"1\" class=\"dataframe\">\n",
       "  <thead>\n",
       "    <tr style=\"text-align: right;\">\n",
       "      <th></th>\n",
       "      <th>const</th>\n",
       "      <th>X1</th>\n",
       "      <th>X4</th>\n",
       "      <th>X5</th>\n",
       "      <th>X6</th>\n",
       "      <th>X8</th>\n",
       "      <th>X9</th>\n",
       "      <th>X11</th>\n",
       "      <th>X12</th>\n",
       "      <th>X13</th>\n",
       "    </tr>\n",
       "  </thead>\n",
       "  <tbody>\n",
       "    <tr>\n",
       "      <th>0</th>\n",
       "      <td>1.0</td>\n",
       "      <td>-0.406705</td>\n",
       "      <td>-0.287849</td>\n",
       "      <td>-0.406239</td>\n",
       "      <td>0.128632</td>\n",
       "      <td>-0.529489</td>\n",
       "      <td>-0.507741</td>\n",
       "      <td>-0.735903</td>\n",
       "      <td>0.420302</td>\n",
       "      <td>-0.486575</td>\n",
       "    </tr>\n",
       "    <tr>\n",
       "      <th>1</th>\n",
       "      <td>1.0</td>\n",
       "      <td>-0.410961</td>\n",
       "      <td>3.474042</td>\n",
       "      <td>-0.935826</td>\n",
       "      <td>0.604203</td>\n",
       "      <td>0.148902</td>\n",
       "      <td>-0.624156</td>\n",
       "      <td>-0.293614</td>\n",
       "      <td>0.436321</td>\n",
       "      <td>-1.258473</td>\n",
       "    </tr>\n",
       "    <tr>\n",
       "      <th>2</th>\n",
       "      <td>1.0</td>\n",
       "      <td>-0.405024</td>\n",
       "      <td>-0.287849</td>\n",
       "      <td>0.425970</td>\n",
       "      <td>-0.473480</td>\n",
       "      <td>-0.898332</td>\n",
       "      <td>-0.624156</td>\n",
       "      <td>0.812108</td>\n",
       "      <td>0.358629</td>\n",
       "      <td>0.778440</td>\n",
       "    </tr>\n",
       "    <tr>\n",
       "      <th>3</th>\n",
       "      <td>1.0</td>\n",
       "      <td>-0.406722</td>\n",
       "      <td>-0.287849</td>\n",
       "      <td>-1.221635</td>\n",
       "      <td>-0.359454</td>\n",
       "      <td>0.722262</td>\n",
       "      <td>-0.624156</td>\n",
       "      <td>0.414048</td>\n",
       "      <td>0.367783</td>\n",
       "      <td>-0.979693</td>\n",
       "    </tr>\n",
       "    <tr>\n",
       "      <th>4</th>\n",
       "      <td>1.0</td>\n",
       "      <td>0.195293</td>\n",
       "      <td>-0.287849</td>\n",
       "      <td>1.300209</td>\n",
       "      <td>-0.036844</td>\n",
       "      <td>-0.661300</td>\n",
       "      <td>1.704142</td>\n",
       "      <td>0.856337</td>\n",
       "      <td>0.301190</td>\n",
       "      <td>0.666368</td>\n",
       "    </tr>\n",
       "    <tr>\n",
       "      <th>...</th>\n",
       "      <td>...</td>\n",
       "      <td>...</td>\n",
       "      <td>...</td>\n",
       "      <td>...</td>\n",
       "      <td>...</td>\n",
       "      <td>...</td>\n",
       "      <td>...</td>\n",
       "      <td>...</td>\n",
       "      <td>...</td>\n",
       "      <td>...</td>\n",
       "    </tr>\n",
       "    <tr>\n",
       "      <th>122</th>\n",
       "      <td>1.0</td>\n",
       "      <td>8.438563</td>\n",
       "      <td>-0.287849</td>\n",
       "      <td>1.014400</td>\n",
       "      <td>-0.509634</td>\n",
       "      <td>-0.929377</td>\n",
       "      <td>1.704142</td>\n",
       "      <td>0.856337</td>\n",
       "      <td>-3.916836</td>\n",
       "      <td>1.135670</td>\n",
       "    </tr>\n",
       "    <tr>\n",
       "      <th>123</th>\n",
       "      <td>1.0</td>\n",
       "      <td>-0.399575</td>\n",
       "      <td>-0.287849</td>\n",
       "      <td>-0.095211</td>\n",
       "      <td>-0.420638</td>\n",
       "      <td>-0.481571</td>\n",
       "      <td>-0.391326</td>\n",
       "      <td>-0.205157</td>\n",
       "      <td>0.408975</td>\n",
       "      <td>-0.310062</td>\n",
       "    </tr>\n",
       "    <tr>\n",
       "      <th>124</th>\n",
       "      <td>1.0</td>\n",
       "      <td>-0.400717</td>\n",
       "      <td>-0.287849</td>\n",
       "      <td>-0.927420</td>\n",
       "      <td>-0.214836</td>\n",
       "      <td>0.927775</td>\n",
       "      <td>-0.740571</td>\n",
       "      <td>-0.160928</td>\n",
       "      <td>0.281509</td>\n",
       "      <td>-0.939067</td>\n",
       "    </tr>\n",
       "    <tr>\n",
       "      <th>125</th>\n",
       "      <td>1.0</td>\n",
       "      <td>-0.375468</td>\n",
       "      <td>-0.287849</td>\n",
       "      <td>-0.549143</td>\n",
       "      <td>-0.392827</td>\n",
       "      <td>0.453901</td>\n",
       "      <td>-0.507741</td>\n",
       "      <td>0.590963</td>\n",
       "      <td>0.436321</td>\n",
       "      <td>-0.674296</td>\n",
       "    </tr>\n",
       "    <tr>\n",
       "      <th>126</th>\n",
       "      <td>1.0</td>\n",
       "      <td>-0.415507</td>\n",
       "      <td>-0.287849</td>\n",
       "      <td>-1.087136</td>\n",
       "      <td>0.267688</td>\n",
       "      <td>2.261712</td>\n",
       "      <td>-0.624156</td>\n",
       "      <td>-0.160928</td>\n",
       "      <td>0.385175</td>\n",
       "      <td>-0.862017</td>\n",
       "    </tr>\n",
       "  </tbody>\n",
       "</table>\n",
       "<p>127 rows × 10 columns</p>\n",
       "</div>"
      ],
      "text/plain": [
       "     const        X1        X4        X5        X6        X8        X9  \\\n",
       "0      1.0 -0.406705 -0.287849 -0.406239  0.128632 -0.529489 -0.507741   \n",
       "1      1.0 -0.410961  3.474042 -0.935826  0.604203  0.148902 -0.624156   \n",
       "2      1.0 -0.405024 -0.287849  0.425970 -0.473480 -0.898332 -0.624156   \n",
       "3      1.0 -0.406722 -0.287849 -1.221635 -0.359454  0.722262 -0.624156   \n",
       "4      1.0  0.195293 -0.287849  1.300209 -0.036844 -0.661300  1.704142   \n",
       "..     ...       ...       ...       ...       ...       ...       ...   \n",
       "122    1.0  8.438563 -0.287849  1.014400 -0.509634 -0.929377  1.704142   \n",
       "123    1.0 -0.399575 -0.287849 -0.095211 -0.420638 -0.481571 -0.391326   \n",
       "124    1.0 -0.400717 -0.287849 -0.927420 -0.214836  0.927775 -0.740571   \n",
       "125    1.0 -0.375468 -0.287849 -0.549143 -0.392827  0.453901 -0.507741   \n",
       "126    1.0 -0.415507 -0.287849 -1.087136  0.267688  2.261712 -0.624156   \n",
       "\n",
       "          X11       X12       X13  \n",
       "0   -0.735903  0.420302 -0.486575  \n",
       "1   -0.293614  0.436321 -1.258473  \n",
       "2    0.812108  0.358629  0.778440  \n",
       "3    0.414048  0.367783 -0.979693  \n",
       "4    0.856337  0.301190  0.666368  \n",
       "..        ...       ...       ...  \n",
       "122  0.856337 -3.916836  1.135670  \n",
       "123 -0.205157  0.408975 -0.310062  \n",
       "124 -0.160928  0.281509 -0.939067  \n",
       "125  0.590963  0.436321 -0.674296  \n",
       "126 -0.160928  0.385175 -0.862017  \n",
       "\n",
       "[127 rows x 10 columns]"
      ]
     },
     "execution_count": 25,
     "metadata": {},
     "output_type": "execute_result"
    }
   ],
   "source": [
    "Xppd_test_n"
   ]
  },
  {
   "cell_type": "markdown",
   "metadata": {},
   "source": [
    "On utilise deux métriques pour l’évaluation L’erreur quadratique moyenne (l’erreur d’estimation) et le R-square (la qualité du modèle de régression)"
   ]
  },
  {
   "cell_type": "code",
   "execution_count": 27,
   "metadata": {},
   "outputs": [
    {
     "name": "stdout",
     "output_type": "stream",
     "text": [
      "La performance du modèle sur la base dapprentissage\n",
      "--------------------------------------\n",
      "Lerreur quadratique moyenne est 4.773336192339393\n",
      "le score R2 est 0.7430729191945766\n",
      "\n",
      "\n",
      "La performance du modèle sur la base de test\n",
      "--------------------------------------\n",
      "Lerreur quadratique moyenne est 4.877032909593132\n",
      "le score R2 est 0.6603395660591358\n"
     ]
    }
   ],
   "source": [
    "# Evaluation du training set\n",
    "y_train_predict = reg.predict(Xppd_train_n)\n",
    "error = (np.sqrt(mean_squared_error(Y_train, y_train_predict)))\n",
    "score = r2_score(Y_train, y_train_predict)\n",
    "\n",
    "print('La performance du modèle sur la base dapprentissage')\n",
    "print('--------------------------------------')\n",
    "print('Lerreur quadratique moyenne est {}'.format(error))\n",
    "print('le score R2 est {}'.format(score))\n",
    "print('\\n')\n",
    "\n",
    "# model evaluation du testing set\n",
    "y_test_predict = reg.predict(Xppd_test_n)\n",
    "error = (np.sqrt(mean_squared_error(Y_test, y_test_predict)))\n",
    "score = r2_score(Y_test, y_test_predict)\n",
    " \n",
    "print('La performance du modèle sur la base de test')\n",
    "print('--------------------------------------')\n",
    "print('Lerreur quadratique moyenne est {}'.format(error))\n",
    "print('le score R2 est {}'.format(score))"
   ]
  },
  {
   "cell_type": "markdown",
   "metadata": {},
   "source": [
    "*******************"
   ]
  },
  {
   "cell_type": "markdown",
   "metadata": {},
   "source": [
    "# régression Ridge "
   ]
  },
  {
   "cell_type": "markdown",
   "metadata": {},
   "source": [
    "#### Recherche de la meilleure valeur alpha"
   ]
  },
  {
   "cell_type": "code",
   "execution_count": 29,
   "metadata": {},
   "outputs": [
    {
     "name": "stdout",
     "output_type": "stream",
     "text": [
      "best alpha:  9.31\n"
     ]
    }
   ],
   "source": [
    "from sklearn.linear_model import RidgeCV\n",
    "import matplotlib.pyplot as plt\n",
    "\n",
    "# a est un hyperparamètre que nous sommes en train de régler, listant les options\n",
    "a = np.arange(0.01,30,0.1)\n",
    "\n",
    "cross_validating_ridge = RidgeCV(alphas=a, store_cv_values=True)\n",
    "cross_validating_ridge.fit(X_train_n, Y_train)\n",
    "\n",
    "# recherche d'erreurs quadratiques moyennes\n",
    "cv_rmse = np.sqrt(np.mean(cross_validating_ridge.cv_values_, axis=0))\n",
    "\n",
    "\n",
    "print(\"best alpha: \", cross_validating_ridge.alpha_)"
   ]
  },
  {
   "cell_type": "code",
   "execution_count": 30,
   "metadata": {},
   "outputs": [],
   "source": [
    "# Créer une régression de Ridge avec une valeur alpha\n",
    "regr = Ridge(alpha=9.31, fit_intercept=True)\n",
    "# Ajuster la régression linéaire\n",
    "model = regr.fit(X_train_n, Y_train)"
   ]
  },
  {
   "cell_type": "markdown",
   "metadata": {},
   "source": [
    "On utilise deux métriques pour l’évaluation L’erreur quadratique moyenne (l’erreur d’estimation) et le R-square (la qualité du modèle de régression)"
   ]
  },
  {
   "cell_type": "code",
   "execution_count": 31,
   "metadata": {},
   "outputs": [
    {
     "name": "stdout",
     "output_type": "stream",
     "text": [
      "La performance du modèle sur la base dapprentissage\n",
      "--------------------------------------\n",
      "Lerreur quadratique moyenne est 4.705699127056492\n",
      "le score R2 est 0.750302526911862\n",
      "\n",
      "\n",
      "La performance du modèle sur la base de test\n",
      "--------------------------------------\n",
      "Lerreur quadratique moyenne est 4.751779237754588\n",
      "le score R2 est 0.6775620888404865\n"
     ]
    }
   ],
   "source": [
    "# Evaluation du training set\n",
    "y_train_predict = model.predict(X_train_n)\n",
    "error = (np.sqrt(mean_squared_error(Y_train, y_train_predict)))\n",
    "score = r2_score(Y_train, y_train_predict)\n",
    "\n",
    "print('La performance du modèle sur la base dapprentissage')\n",
    "print('--------------------------------------')\n",
    "print('Lerreur quadratique moyenne est {}'.format(error))\n",
    "print('le score R2 est {}'.format(score))\n",
    "print('\\n')\n",
    "\n",
    "# model evaluation du testing set\n",
    "y_test_predict = model.predict(X_test_n)\n",
    "error = (np.sqrt(mean_squared_error(Y_test, y_test_predict)))\n",
    "score = r2_score(Y_test, y_test_predict)\n",
    " \n",
    "print('La performance du modèle sur la base de test')\n",
    "print('--------------------------------------')\n",
    "print('Lerreur quadratique moyenne est {}'.format(error))\n",
    "print('le score R2 est {}'.format(score))"
   ]
  },
  {
   "cell_type": "markdown",
   "metadata": {},
   "source": [
    "**********************"
   ]
  },
  {
   "cell_type": "markdown",
   "metadata": {},
   "source": [
    "# Régression LASSO"
   ]
  },
  {
   "cell_type": "code",
   "execution_count": 33,
   "metadata": {},
   "outputs": [
    {
     "data": {
      "text/plain": [
       "LassoCV(alphas=array([1.000e-03, 1.000e-02, 2.000e-02, 2.500e-02, 5.000e-02, 1.000e-01,\n",
       "       2.500e-01, 5.000e-01, 8.000e-01, 1.000e+00, 1.001e+00, 1.010e+00,\n",
       "       1.020e+00, 1.050e+00, 2.000e+00]),\n",
       "        cv=5, fit_intercept=False, random_state=42)"
      ]
     },
     "execution_count": 33,
     "metadata": {},
     "output_type": "execute_result"
    }
   ],
   "source": [
    "from sklearn.linear_model import LassoCV\n",
    "#obtention des valeurs des coefs. corresp.\n",
    "from sklearn.linear_model import lasso_path\n",
    "\n",
    "my_alphas = np.array([0.001,0.01,0.02,0.025,0.05,0.1,0.25,0.5,0.8,1.0,1.001,1.01,1.02,1.05,2])\n",
    "#my_alphas = np.arange(0.01,30,0.1)\n",
    "\n",
    "#outil pour la détection de la solution la plus performante en validation croisée\n",
    "#random_state = 0 pour fixer l’initialisation du générateur de nombre aléatoire\n",
    "#cv = 5 pour 5-fold validation croisée\n",
    "lcv = LassoCV(alphas=my_alphas,normalize=False,fit_intercept=False,random_state=42,cv=5)\n",
    "\n",
    "#lancement sur l'échantillon d'apprentissage\n",
    "lcv.fit(X_train_n, Y_train)"
   ]
  },
  {
   "cell_type": "code",
   "execution_count": 36,
   "metadata": {},
   "outputs": [
    {
     "data": {
      "image/png": "[encoded data removed]",
      "text/plain": [
       "<Figure size 432x288 with 1 Axes>"
      ]
     },
     "metadata": {
      "needs_background": "light"
     },
     "output_type": "display_data"
    },
    {
     "name": "stdout",
     "output_type": "stream",
     "text": [
      "Meilleure alpha : 1.05\n"
     ]
    }
   ],
   "source": [
    "#moyenne mse en validation croisée pour chaque alpha\n",
    "avg_rmse = np.sqrt(np.mean(lcv.mse_path_,axis=1))\n",
    "#sous-forme graphique\n",
    "plt.plot(lcv.alphas_,avg_rmse)\n",
    "plt.xlabel('Alpha')\n",
    "plt.ylabel('MSE')\n",
    "plt.title('MSE vs. Alpha')\n",
    "plt.show()\n",
    "print(\"Meilleure alpha :\",lcv.alpha_)"
   ]
  },
  {
   "cell_type": "code",
   "execution_count": 42,
   "metadata": {},
   "outputs": [
    {
     "data": {
      "text/plain": [
       "Lasso(alpha=1.05)"
      ]
     },
     "execution_count": 42,
     "metadata": {},
     "output_type": "execute_result"
    }
   ],
   "source": [
    "model = Lasso(alpha=1.05, fit_intercept=True)\n",
    "model.fit(X_train_n, Y_train)"
   ]
  },
  {
   "cell_type": "markdown",
   "metadata": {},
   "source": [
    "On utilise deux métriques pour l’évaluation L’erreur quadratique moyenne (l’erreur d’estimation) et le R-square (la qualité du modèle de régression)"
   ]
  },
  {
   "cell_type": "code",
   "execution_count": 43,
   "metadata": {},
   "outputs": [
    {
     "name": "stdout",
     "output_type": "stream",
     "text": [
      "La performance du modèle sur la base dapprentissage\n",
      "--------------------------------------\n",
      "Lerreur quadratique moyenne est 5.366017142585634\n",
      "le score R2 est 0.6753092268857508\n",
      "\n",
      "\n",
      "La performance du modèle sur la base de test\n",
      "--------------------------------------\n",
      "Lerreur quadratique moyenne est 5.112991189326277\n",
      "le score R2 est 0.6266779203334305\n"
     ]
    }
   ],
   "source": [
    "# Evaluation du training set\n",
    "y_train_predict = model.predict(X_train_n)\n",
    "error = (np.sqrt(mean_squared_error(Y_train, y_train_predict)))\n",
    "score = r2_score(Y_train, y_train_predict)\n",
    "\n",
    "print('La performance du modèle sur la base dapprentissage')\n",
    "print('--------------------------------------')\n",
    "print('Lerreur quadratique moyenne est {}'.format(error))\n",
    "print('le score R2 est {}'.format(score))\n",
    "print('\\n')\n",
    "\n",
    "# model evaluation du testing set\n",
    "y_test_predict = model.predict(X_test_n)\n",
    "error = (np.sqrt(mean_squared_error(Y_test, y_test_predict)))\n",
    "score = r2_score(Y_test, y_test_predict)\n",
    " \n",
    "print('La performance du modèle sur la base de test')\n",
    "print('--------------------------------------')\n",
    "print('Lerreur quadratique moyenne est {}'.format(error))\n",
    "print('le score R2 est {}'.format(score))"
   ]
  },
  {
   "cell_type": "code",
   "execution_count": 41,
   "metadata": {},
   "outputs": [
    {
     "data": {
      "text/plain": [
       "array([ 0.        , -0.        , -0.        ,  0.        , -0.        ,\n",
       "       -0.29544932,  0.        , -0.        ,  0.44036194, -0.        ,\n",
       "        3.24785174, -0.        , -0.25862304, -0.        , -0.        ,\n",
       "       -1.47806623,  0.76246127, -3.67407282])"
      ]
     },
     "execution_count": 41,
     "metadata": {},
     "output_type": "execute_result"
    }
   ],
   "source": [
    "model.coef_"
   ]
  }
 ],
 "metadata": {
  "kernelspec": {
   "display_name": "Python 3",
   "language": "python",
   "name": "python3"
  },
  "language_info": {
   "codemirror_mode": {
    "name": "ipython",
    "version": 3
   },
   "file_extension": ".py",
   "mimetype": "text/x-python",
   "name": "python",
   "nbconvert_exporter": "python",
   "pygments_lexer": "ipython3",
   "version": "3.8.5"
  }
 },
 "nbformat": 4,
 "nbformat_minor": 4
}
