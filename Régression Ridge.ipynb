{
 "cells": [
  {
   "cell_type": "code",
   "execution_count": 109,
   "metadata": {},
   "outputs": [],
   "source": [
    "import pandas as pd\n",
    "import numpy as np\n",
    "from sklearn.linear_model import Ridge\n",
    "from sklearn.preprocessing import StandardScaler\n",
    "from sklearn.metrics import mean_squared_error\n",
    "from sklearn.metrics import r2_score"
   ]
  },
  {
   "cell_type": "code",
   "execution_count": 110,
   "metadata": {},
   "outputs": [],
   "source": [
    "#chargement des données\n",
    "Boston_Data = pd.read_csv('Boston_Data.csv',header=0)"
   ]
  },
  {
   "cell_type": "code",
   "execution_count": 111,
   "metadata": {},
   "outputs": [
    {
     "name": "stdout",
     "output_type": "stream",
     "text": [
      "X_train (379, 18)\n",
      "X_test (127, 18)\n",
      "Y_train (379,)\n",
      "Y_test (127,)\n"
     ]
    }
   ],
   "source": [
    "X = Boston_Data.drop(['Unnamed: 0','Y'],axis=1)\n",
    "Y = Boston_Data['Y']\n",
    "\n",
    "#base d'apprentissage et base de test\n",
    "from sklearn.model_selection import train_test_split\n",
    "\n",
    "X_train, X_test, Y_train, Y_test = train_test_split(X, Y, test_size = 0.25, random_state=42)\n",
    "print(\"X_train\",X_train.shape)\n",
    "print(\"X_test\",X_test.shape)\n",
    "print(\"Y_train\",Y_train.shape)\n",
    "print(\"Y_test\",Y_test.shape)"
   ]
  },
  {
   "cell_type": "code",
   "execution_count": 112,
   "metadata": {},
   "outputs": [],
   "source": [
    "scaler = StandardScaler()\n",
    "X_train_n = scaler.fit_transform(X_train)\n",
    "X_test_n = scaler.transform(X_test)"
   ]
  },
  {
   "cell_type": "code",
   "execution_count": null,
   "metadata": {},
   "outputs": [],
   "source": []
  },
  {
   "cell_type": "code",
   "execution_count": 175,
   "metadata": {},
   "outputs": [],
   "source": [
    "#from sklearn.model_selection import GridSearchCV\n",
    "#from sklearn.linear_model import Ridge\n",
    "\n",
    "#ridge_reg = Ridge()\n",
    "#params_Ridge = {'alpha': [0.5,4] , \"fit_intercept\": [True, False], \"solver\": ['svd', 'cholesky', 'lsqr', 'sparse_cg', 'sag', 'saga']}\n",
    "#Ridge_GS = GridSearchCV(ridge_reg, param_grid=params_Ridge, n_jobs=-1)\n",
    "#Ridge_GS.fit(X_train_n,Y_train)\n",
    "#Ridge_GS.best_params_"
   ]
  },
  {
   "cell_type": "code",
   "execution_count": 1,
   "metadata": {},
   "outputs": [
    {
     "ename": "NameError",
     "evalue": "name 'np' is not defined",
     "output_type": "error",
     "traceback": [
      "\u001b[1;31m---------------------------------------------------------------------------\u001b[0m",
      "\u001b[1;31mNameError\u001b[0m                                 Traceback (most recent call last)",
      "\u001b[1;32m<ipython-input-1-03991dabbdd0>\u001b[0m in \u001b[0;36m<module>\u001b[1;34m\u001b[0m\n\u001b[0;32m      4\u001b[0m \u001b[1;31m# a est un hyperparamètre que nous sommes en train de régler, listant les options\u001b[0m\u001b[1;33m\u001b[0m\u001b[1;33m\u001b[0m\u001b[1;33m\u001b[0m\u001b[0m\n\u001b[0;32m      5\u001b[0m \u001b[1;31m#a = [1e-6, 1e-5, 1e-4, 1e-3, 1e-2, 1e-1, 1, 1e2, 1e3, 1e4, 1e5, 1e6]\u001b[0m\u001b[1;33m\u001b[0m\u001b[1;33m\u001b[0m\u001b[1;33m\u001b[0m\u001b[0m\n\u001b[1;32m----> 6\u001b[1;33m \u001b[0ma\u001b[0m \u001b[1;33m=\u001b[0m \u001b[0mnp\u001b[0m\u001b[1;33m.\u001b[0m\u001b[0marange\u001b[0m\u001b[1;33m(\u001b[0m\u001b[1;36m0.01\u001b[0m\u001b[1;33m,\u001b[0m\u001b[1;36m30\u001b[0m\u001b[1;33m,\u001b[0m\u001b[1;36m0.1\u001b[0m\u001b[1;33m)\u001b[0m\u001b[1;33m\u001b[0m\u001b[1;33m\u001b[0m\u001b[0m\n\u001b[0m\u001b[0;32m      7\u001b[0m \u001b[1;33m\u001b[0m\u001b[0m\n\u001b[0;32m      8\u001b[0m \u001b[0mcross_validating_ridge\u001b[0m \u001b[1;33m=\u001b[0m \u001b[0mRidgeCV\u001b[0m\u001b[1;33m(\u001b[0m\u001b[0malphas\u001b[0m\u001b[1;33m=\u001b[0m\u001b[0ma\u001b[0m\u001b[1;33m,\u001b[0m \u001b[0mstore_cv_values\u001b[0m\u001b[1;33m=\u001b[0m\u001b[1;32mTrue\u001b[0m\u001b[1;33m)\u001b[0m\u001b[1;33m\u001b[0m\u001b[1;33m\u001b[0m\u001b[0m\n",
      "\u001b[1;31mNameError\u001b[0m: name 'np' is not defined"
     ]
    }
   ],
   "source": [
    "from sklearn.linear_model import RidgeCV\n",
    "import matplotlib.pyplot as plt\n",
    "\n",
    "# a est un hyperparamètre que nous sommes en train de régler, listant les options\n",
    "#a = [1e-6, 1e-5, 1e-4, 1e-3, 1e-2, 1e-1, 1, 1e2, 1e3, 1e4, 1e5, 1e6]\n",
    "a = np.arange(0.01,30,0.1)\n",
    "\n",
    "cross_validating_ridge = RidgeCV(alphas=a, store_cv_values=True)\n",
    "cross_validating_ridge.fit(X_train_n, Y_train)\n",
    "\n",
    "# recherche d'erreurs quadratiques moyennes\n",
    "cv_rmse = np.sqrt(np.mean(cross_validating_ridge.cv_values_, axis=0))\n",
    "#print(a)\n",
    "#print(cv_rmse)\n",
    "\n",
    "print(\"best alpha: \", cross_validating_ridge.alpha_)\n",
    "\n",
    "#fig = plt.figure()\n",
    "#ax11 = plt.axes()\n",
    "\n",
    "#ax11.plot(np.log10(a), cv_mse, linewidth=1.0)"
   ]
  },
  {
   "cell_type": "code",
   "execution_count": null,
   "metadata": {},
   "outputs": [],
   "source": []
  },
  {
   "cell_type": "code",
   "execution_count": 189,
   "metadata": {},
   "outputs": [],
   "source": [
    "# Créer une régression de Ridge avec une valeur alpha\n",
    "regr = Ridge(alpha=9.31, fit_intercept=True)\n",
    "# Ajuster la régression linéaire\n",
    "model = regr.fit(X_train_n, Y_train)"
   ]
  },
  {
   "cell_type": "code",
   "execution_count": 190,
   "metadata": {},
   "outputs": [
    {
     "name": "stdout",
     "output_type": "stream",
     "text": [
      "La performance du modèle sur la base dapprentissage\n",
      "--------------------------------------\n",
      "Lerreur quadratique moyenne est 4.705699127056492\n",
      "le score R2 est 0.750302526911862\n",
      "\n",
      "\n",
      "La performance du modèle sur la base de test\n",
      "--------------------------------------\n",
      "Lerreur quadratique moyenne est 4.751779237754588\n",
      "le score R2 est 0.6775620888404865\n"
     ]
    }
   ],
   "source": [
    "# Evaluation du training set\n",
    "y_train_predict = model.predict(X_train_n)\n",
    "error = (np.sqrt(mean_squared_error(Y_train, y_train_predict)))\n",
    "score = r2_score(Y_train, y_train_predict)\n",
    "\n",
    "print('La performance du modèle sur la base dapprentissage')\n",
    "print('--------------------------------------')\n",
    "print('Lerreur quadratique moyenne est {}'.format(error))\n",
    "print('le score R2 est {}'.format(score))\n",
    "print('\\n')\n",
    "\n",
    "# model evaluation du testing set\n",
    "y_test_predict = model.predict(X_test_n)\n",
    "error = (np.sqrt(mean_squared_error(Y_test, y_test_predict)))\n",
    "score = r2_score(Y_test, y_test_predict)\n",
    " \n",
    "print('La performance du modèle sur la base de test')\n",
    "print('--------------------------------------')\n",
    "print('Lerreur quadratique moyenne est {}'.format(error))\n",
    "print('le score R2 est {}'.format(score))"
   ]
  },
  {
   "cell_type": "code",
   "execution_count": 191,
   "metadata": {},
   "outputs": [
    {
     "data": {
      "text/plain": [
       "array([ 0.18057641, -0.22986373, -0.04630615,  0.3505183 , -0.31824071,\n",
       "       -0.92491852,  0.6328699 ,  0.18798366,  0.72193214, -1.70036821,\n",
       "        3.23816763, -0.23112639, -2.66054832,  1.5857857 , -1.13760829,\n",
       "       -2.00657364,  1.1478926 , -3.51343212])"
      ]
     },
     "execution_count": 191,
     "metadata": {},
     "output_type": "execute_result"
    }
   ],
   "source": [
    "model.coef_"
   ]
  }
 ],
 "metadata": {
  "kernelspec": {
   "display_name": "Python 3",
   "language": "python",
   "name": "python3"
  },
  "language_info": {
   "codemirror_mode": {
    "name": "ipython",
    "version": 3
   },
   "file_extension": ".py",
   "mimetype": "text/x-python",
   "name": "python",
   "nbconvert_exporter": "python",
   "pygments_lexer": "ipython3",
   "version": "3.8.5"
  }
 },
 "nbformat": 4,
 "nbformat_minor": 4
}
