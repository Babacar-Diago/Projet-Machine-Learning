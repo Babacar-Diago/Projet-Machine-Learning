{
 "cells": [
  {
   "cell_type": "markdown",
   "metadata": {},
   "source": [
    "### UNIVERSITE VIRTUELLE DU SENEGAL"
   ]
  },
  {
   "cell_type": "markdown",
   "metadata": {},
   "source": [
    "### MASTER BIG DATA ANALITYCS"
   ]
  },
  {
   "cell_type": "markdown",
   "metadata": {},
   "source": [
    "# Projet Machine Learning "
   ]
  },
  {
   "cell_type": "markdown",
   "metadata": {},
   "source": [
    "# Chargement et exploitation des données"
   ]
  },
  {
   "cell_type": "code",
   "execution_count": 84,
   "metadata": {},
   "outputs": [],
   "source": [
    "import pandas as pd\n",
    "from sklearn.linear_model import LinearRegression\n",
    "import seaborn as sns\n",
    "import numpy as np\n",
    "from sklearn.metrics import mean_squared_error\n",
    "from sklearn.metrics import r2_score\n",
    "from sklearn.preprocessing import StandardScaler\n",
    "import statsmodels.api as sm\n",
    "from sklearn.linear_model import Ridge\n",
    "from sklearn.linear_model import Lasso\n",
    "%matplotlib inline"
   ]
  },
  {
   "cell_type": "code",
   "execution_count": 16,
   "metadata": {},
   "outputs": [],
   "source": [
    "#chargement des données\n",
    "Boston_Data = pd.read_csv('Boston_Data.csv',header=0)"
   ]
  },
  {
   "cell_type": "markdown",
   "metadata": {},
   "source": [
    "Après chargement de la base de donnée, on la visualise pour mieux le comprendre"
   ]
  },
  {
   "cell_type": "code",
   "execution_count": 17,
   "metadata": {},
   "outputs": [
    {
     "data": {
      "text/html": [
       "<div>\n",
       "<style scoped>\n",
       "    .dataframe tbody tr th:only-of-type {\n",
       "        vertical-align: middle;\n",
       "    }\n",
       "\n",
       "    .dataframe tbody tr th {\n",
       "        vertical-align: top;\n",
       "    }\n",
       "\n",
       "    .dataframe thead th {\n",
       "        text-align: right;\n",
       "    }\n",
       "</style>\n",
       "<table border=\"1\" class=\"dataframe\">\n",
       "  <thead>\n",
       "    <tr style=\"text-align: right;\">\n",
       "      <th></th>\n",
       "      <th>Unnamed: 0</th>\n",
       "      <th>R1</th>\n",
       "      <th>R2</th>\n",
       "      <th>R3</th>\n",
       "      <th>R4</th>\n",
       "      <th>R5</th>\n",
       "      <th>X1</th>\n",
       "      <th>X2</th>\n",
       "      <th>X3</th>\n",
       "      <th>X4</th>\n",
       "      <th>X5</th>\n",
       "      <th>X6</th>\n",
       "      <th>X7</th>\n",
       "      <th>X8</th>\n",
       "      <th>X9</th>\n",
       "      <th>X10</th>\n",
       "      <th>X11</th>\n",
       "      <th>X12</th>\n",
       "      <th>X13</th>\n",
       "      <th>Y</th>\n",
       "    </tr>\n",
       "  </thead>\n",
       "  <tbody>\n",
       "    <tr>\n",
       "      <th>0</th>\n",
       "      <td>0</td>\n",
       "      <td>-0.21</td>\n",
       "      <td>0.11</td>\n",
       "      <td>-0.65</td>\n",
       "      <td>-0.54</td>\n",
       "      <td>1.48</td>\n",
       "      <td>0.00632</td>\n",
       "      <td>18.0</td>\n",
       "      <td>2.31</td>\n",
       "      <td>0</td>\n",
       "      <td>0.538</td>\n",
       "      <td>6.575</td>\n",
       "      <td>65.2</td>\n",
       "      <td>4.0900</td>\n",
       "      <td>1</td>\n",
       "      <td>296</td>\n",
       "      <td>15.3</td>\n",
       "      <td>396.90</td>\n",
       "      <td>4.98</td>\n",
       "      <td>24.0</td>\n",
       "    </tr>\n",
       "    <tr>\n",
       "      <th>1</th>\n",
       "      <td>1</td>\n",
       "      <td>0.08</td>\n",
       "      <td>-0.61</td>\n",
       "      <td>-0.85</td>\n",
       "      <td>-0.36</td>\n",
       "      <td>-0.12</td>\n",
       "      <td>0.02731</td>\n",
       "      <td>0.0</td>\n",
       "      <td>7.07</td>\n",
       "      <td>0</td>\n",
       "      <td>0.469</td>\n",
       "      <td>6.421</td>\n",
       "      <td>78.9</td>\n",
       "      <td>4.9671</td>\n",
       "      <td>2</td>\n",
       "      <td>242</td>\n",
       "      <td>17.8</td>\n",
       "      <td>396.90</td>\n",
       "      <td>9.14</td>\n",
       "      <td>21.6</td>\n",
       "    </tr>\n",
       "    <tr>\n",
       "      <th>2</th>\n",
       "      <td>2</td>\n",
       "      <td>-1.32</td>\n",
       "      <td>0.95</td>\n",
       "      <td>-0.75</td>\n",
       "      <td>-0.99</td>\n",
       "      <td>-0.36</td>\n",
       "      <td>0.02729</td>\n",
       "      <td>0.0</td>\n",
       "      <td>7.07</td>\n",
       "      <td>0</td>\n",
       "      <td>0.469</td>\n",
       "      <td>7.185</td>\n",
       "      <td>61.1</td>\n",
       "      <td>4.9671</td>\n",
       "      <td>2</td>\n",
       "      <td>242</td>\n",
       "      <td>17.8</td>\n",
       "      <td>392.83</td>\n",
       "      <td>4.03</td>\n",
       "      <td>34.7</td>\n",
       "    </tr>\n",
       "  </tbody>\n",
       "</table>\n",
       "</div>"
      ],
      "text/plain": [
       "   Unnamed: 0    R1    R2    R3    R4    R5       X1    X2    X3  X4     X5  \\\n",
       "0           0 -0.21  0.11 -0.65 -0.54  1.48  0.00632  18.0  2.31   0  0.538   \n",
       "1           1  0.08 -0.61 -0.85 -0.36 -0.12  0.02731   0.0  7.07   0  0.469   \n",
       "2           2 -1.32  0.95 -0.75 -0.99 -0.36  0.02729   0.0  7.07   0  0.469   \n",
       "\n",
       "      X6    X7      X8  X9  X10   X11     X12   X13     Y  \n",
       "0  6.575  65.2  4.0900   1  296  15.3  396.90  4.98  24.0  \n",
       "1  6.421  78.9  4.9671   2  242  17.8  396.90  9.14  21.6  \n",
       "2  7.185  61.1  4.9671   2  242  17.8  392.83  4.03  34.7  "
      ]
     },
     "execution_count": 17,
     "metadata": {},
     "output_type": "execute_result"
    }
   ],
   "source": [
    "Boston_Data.head(3)"
   ]
  },
  {
   "cell_type": "markdown",
   "metadata": {},
   "source": [
    "Avant de commencer le traitement nous vérifions s'il y'a pas de valeurs null"
   ]
  },
  {
   "cell_type": "code",
   "execution_count": 18,
   "metadata": {},
   "outputs": [
    {
     "data": {
      "text/plain": [
       "Unnamed: 0    0\n",
       "R1            0\n",
       "R2            0\n",
       "R3            0\n",
       "R4            0\n",
       "R5            0\n",
       "X1            0\n",
       "X2            0\n",
       "X3            0\n",
       "X4            0\n",
       "X5            0\n",
       "X6            0\n",
       "X7            0\n",
       "X8            0\n",
       "X9            0\n",
       "X10           0\n",
       "X11           0\n",
       "X12           0\n",
       "X13           0\n",
       "Y             0\n",
       "dtype: int64"
      ]
     },
     "execution_count": 18,
     "metadata": {},
     "output_type": "execute_result"
    }
   ],
   "source": [
    "Boston_Data.isnull().sum()\n",
    "#Rendu : Pas de valeurs nulles"
   ]
  },
  {
   "cell_type": "markdown",
   "metadata": {},
   "source": [
    "##### On divise notre jeu de données en 2 parties (75% pour l’apprentissage et les 25% restant pour le test)"
   ]
  },
  {
   "cell_type": "markdown",
   "metadata": {},
   "source": [
    "Nous allons d'abord scinder les données en deux parties : un vecteur contenant les valeurs de la variable cible (variable endogène) Y, une matrice avec les variables explicatives (variables exogènes) X."
   ]
  },
  {
   "cell_type": "code",
   "execution_count": 19,
   "metadata": {},
   "outputs": [
    {
     "name": "stdout",
     "output_type": "stream",
     "text": [
      "X_train (379, 18)\n",
      "X_test (127, 18)\n",
      "Y_train (379,)\n",
      "Y_test (127,)\n"
     ]
    }
   ],
   "source": [
    "X = Boston_Data.drop(['Unnamed: 0','Y'],axis=1)  # variables explicatives (exogènes) X\n",
    "Y = Boston_Data['Y']  # variable cible (endogène) Y\n",
    "\n",
    "#base d'apprentissage et base de test\n",
    "from sklearn.model_selection import train_test_split\n",
    "\n",
    "X_train, X_test, Y_train, Y_test = train_test_split(X, Y, test_size = 0.25, \n",
    "                                                    random_state=42)\n",
    "print(\"X_train\",X_train.shape)\n",
    "print(\"X_test\",X_test.shape)\n",
    "print(\"Y_train\",Y_train.shape)\n",
    "print(\"Y_test\",Y_test.shape)"
   ]
  },
  {
   "cell_type": "markdown",
   "metadata": {},
   "source": [
    "##### Normalisation des X_train et X_test "
   ]
  },
  {
   "cell_type": "code",
   "execution_count": 20,
   "metadata": {},
   "outputs": [],
   "source": [
    "scaler = StandardScaler()\n",
    "X_train_n = scaler.fit_transform(X_train)\n",
    "X_test_n = scaler.transform(X_test)"
   ]
  },
  {
   "cell_type": "markdown",
   "metadata": {},
   "source": [
    "********************"
   ]
  },
  {
   "cell_type": "markdown",
   "metadata": {},
   "source": [
    "# I.  Régression linéaire multiple"
   ]
  },
  {
   "cell_type": "markdown",
   "metadata": {},
   "source": [
    "En statistique, la régression linéaire multiple est une méthode de régression mathématique étendant la régression linéaire simple pour décrire les variations d'une variable endogène associée aux variations de plusieurs variables exogènes."
   ]
  },
  {
   "cell_type": "markdown",
   "metadata": {},
   "source": [
    "### Entrainement du modèle"
   ]
  },
  {
   "cell_type": "code",
   "execution_count": 21,
   "metadata": {},
   "outputs": [
    {
     "data": {
      "text/plain": [
       "LinearRegression()"
      ]
     },
     "execution_count": 21,
     "metadata": {},
     "output_type": "execute_result"
    }
   ],
   "source": [
    "#entrainement du modèle\n",
    "model = LinearRegression()\n",
    "model.fit(X_train_n, Y_train)"
   ]
  },
  {
   "cell_type": "markdown",
   "metadata": {},
   "source": [
    "### Évaluation du modèle de régression linéaire"
   ]
  },
  {
   "cell_type": "markdown",
   "metadata": {},
   "source": [
    "On utilise deux métriques pour l’évaluation de l’erreur quadratique moyenne (l’erreur d’estimation) et le R-square (la qualité du modèle de régression)"
   ]
  },
  {
   "cell_type": "code",
   "execution_count": 85,
   "metadata": {},
   "outputs": [
    {
     "name": "stdout",
     "output_type": "stream",
     "text": [
      "La performance du modèle sur la base dapprentissage\n",
      "--------------------------------------\n",
      "L'erreur quadratique moyenne est 5.366017142585634\n",
      "le score R2 est 0.6753092268857508\n",
      "\n",
      "\n",
      "La performance du modèle sur la base de test\n",
      "--------------------------------------\n",
      "Lerreur quadratique moyenne est 5.112991189326277\n",
      "le score R2 est 0.6266779203334305\n"
     ]
    }
   ],
   "source": [
    "# Evaluation de l'ensemble d'entraînement\n",
    "y_train_predict = model.predict(X_train_n)\n",
    "# erreur quadratique moyenne\n",
    "err_rlm_train = (np.sqrt(mean_squared_error(Y_train, y_train_predict)))\n",
    "# score R2\n",
    "score_rlm_train = r2_score(Y_train, y_train_predict)\n",
    "\n",
    "print('La performance du modèle sur la base dapprentissage')\n",
    "print('--------------------------------------')\n",
    "print(\"L'erreur quadratique moyenne est {}\".format(err_rlm_train))\n",
    "print('le score R2 est {}'.format(score_rlm_train))\n",
    "print('\\n')\n",
    " \n",
    "# Evaluation de l'ensemble de test\n",
    "y_test_predict = model.predict(X_test_n)\n",
    "err_rlm_test = (np.sqrt(mean_squared_error(Y_test, y_test_predict)))\n",
    "score_rlm_test = r2_score(Y_test, y_test_predict)\n",
    " \n",
    "print('La performance du modèle sur la base de test')\n",
    "print('--------------------------------------')\n",
    "print('Lerreur quadratique moyenne est {}'.format(err_rlm_test))\n",
    "print('le score R2 est {}'.format(score_rlm_test))"
   ]
  },
  {
   "cell_type": "markdown",
   "metadata": {},
   "source": [
    "L'erreur quadratique moyenne mesure la moyenne des carrés des erreurs, c'est a dire la diférence quadretique myenne entre les valeurs estimées."
   ]
  },
  {
   "cell_type": "markdown",
   "metadata": {},
   "source": [
    "Le R au carré est une mesure de la qualité de l'ajustement pour les modèles de régression linéaire"
   ]
  },
  {
   "cell_type": "markdown",
   "metadata": {},
   "source": [
    "#### Avantages et limites de la regression multiple"
   ]
  },
  {
   "cell_type": "markdown",
   "metadata": {},
   "source": [
    "##### - Avantages"
   ]
  },
  {
   "cell_type": "markdown",
   "metadata": {},
   "source": [
    "La régression linéaire est simple à mettre en œuvre et donne des résultats satisfaisants. Les modèles de régression peuvent être formés facilement et efficacement. Ils ont aussi une complexité temporelle considérablement faible par rapport à d’autres modèles d’apprentissage automatique. Cet algorithme performe sur des ensembles de données séparables linéairement et il est ainsi souvent appliqué pour déterminer la nature de la relation entre les variables."
   ]
  },
  {
   "cell_type": "markdown",
   "metadata": {},
   "source": [
    "##### - Limites"
   ]
  },
  {
   "cell_type": "markdown",
   "metadata": {},
   "source": [
    "Lors de l’application des modèles de régression, les valeurs aberrantes peuvent avoir des effets énormes sur la régression. Il est possible dans certains cas qu’on retrouve des situations de sous-ajustement (underfitting), et cela lorsque le modèle d’apprentissage automatique ne parvient pas à saisir les données correctement ce qui est généralement le résultat d’une fonction d’hypothèse mal adaptée aux données. La régression linéaire suppose alors que les données d’entrée sont indépendantes l’une de l’autre."
   ]
  },
  {
   "cell_type": "markdown",
   "metadata": {},
   "source": [
    "**********"
   ]
  },
  {
   "cell_type": "markdown",
   "metadata": {},
   "source": [
    "# II.  Méthode de sélection de variable pas-à-pas descendante"
   ]
  },
  {
   "cell_type": "markdown",
   "metadata": {},
   "source": [
    "C'est une procédure d'élimination descendante\n",
    "\n",
    "Méthode permettant de déterminer les variables à conserver dans un modèle. L'élimination descendante part d'un modèle contenant tous les termes, puis supprime des termes un par un, avec la même méthode que pour la procédure pas à pas."
   ]
  },
  {
   "cell_type": "code",
   "execution_count": 23,
   "metadata": {},
   "outputs": [
    {
     "data": {
      "text/plain": [
       "Index(['R1', 'R2', 'R3', 'R4', 'R5', 'X1', 'X2', 'X3', 'X4', 'X5', 'X6', 'X7',\n",
       "       'X8', 'X9', 'X10', 'X11', 'X12', 'X13'],\n",
       "      dtype='object')"
      ]
     },
     "execution_count": 23,
     "metadata": {},
     "output_type": "execute_result"
    }
   ],
   "source": [
    "Boston_Data.drop(['Unnamed: 0','Y'],axis=1).columns"
   ]
  },
  {
   "cell_type": "markdown",
   "metadata": {},
   "source": [
    "On convertit *X_train_n* en dataframe en éliminant en meme temps la première et dernière colonne pour garder seulement les variables explicatives"
   ]
  },
  {
   "cell_type": "code",
   "execution_count": 24,
   "metadata": {},
   "outputs": [],
   "source": [
    "Xppd_train_n = pd.DataFrame(X_train_n, \n",
    "                            columns = Boston_Data.drop(['Unnamed: 0','Y'],\n",
    "                                                       axis=1).columns)"
   ]
  },
  {
   "cell_type": "code",
   "execution_count": 25,
   "metadata": {},
   "outputs": [
    {
     "data": {
      "text/plain": [
       "pandas.core.frame.DataFrame"
      ]
     },
     "execution_count": 25,
     "metadata": {},
     "output_type": "execute_result"
    }
   ],
   "source": [
    "type(Xppd_train_n)"
   ]
  },
  {
   "cell_type": "markdown",
   "metadata": {},
   "source": [
    "#### Ajout de la colonne \" const \" constituer de 1 a la matrice *Xppd_train_n* (ensemble d'apprentissage)"
   ]
  },
  {
   "cell_type": "markdown",
   "metadata": {},
   "source": [
    "Il faut ajouter la constante (valeur 1) à la matrice Xppd_train_n pour que l’opération soit cohérente"
   ]
  },
  {
   "cell_type": "code",
   "execution_count": 26,
   "metadata": {},
   "outputs": [],
   "source": [
    "Xppd_train_n=sm.tools.tools.add_constant(Xppd_train_n , \n",
    "                                         prepend=True , \n",
    "                                         has_constant='skip')"
   ]
  },
  {
   "cell_type": "code",
   "execution_count": 27,
   "metadata": {},
   "outputs": [
    {
     "data": {
      "text/html": [
       "<div>\n",
       "<style scoped>\n",
       "    .dataframe tbody tr th:only-of-type {\n",
       "        vertical-align: middle;\n",
       "    }\n",
       "\n",
       "    .dataframe tbody tr th {\n",
       "        vertical-align: top;\n",
       "    }\n",
       "\n",
       "    .dataframe thead th {\n",
       "        text-align: right;\n",
       "    }\n",
       "</style>\n",
       "<table border=\"1\" class=\"dataframe\">\n",
       "  <thead>\n",
       "    <tr style=\"text-align: right;\">\n",
       "      <th></th>\n",
       "      <th>const</th>\n",
       "      <th>R1</th>\n",
       "      <th>R2</th>\n",
       "      <th>R3</th>\n",
       "      <th>R4</th>\n",
       "      <th>R5</th>\n",
       "      <th>X1</th>\n",
       "      <th>X2</th>\n",
       "      <th>X3</th>\n",
       "      <th>X4</th>\n",
       "      <th>X5</th>\n",
       "      <th>X6</th>\n",
       "      <th>X7</th>\n",
       "      <th>X8</th>\n",
       "      <th>X9</th>\n",
       "      <th>X10</th>\n",
       "      <th>X11</th>\n",
       "      <th>X12</th>\n",
       "      <th>X13</th>\n",
       "    </tr>\n",
       "  </thead>\n",
       "  <tbody>\n",
       "    <tr>\n",
       "      <th>0</th>\n",
       "      <td>1.0</td>\n",
       "      <td>-1.692906</td>\n",
       "      <td>0.245167</td>\n",
       "      <td>-0.393282</td>\n",
       "      <td>1.390237</td>\n",
       "      <td>1.175517</td>\n",
       "      <td>-0.406795</td>\n",
       "      <td>-0.502812</td>\n",
       "      <td>-1.247076</td>\n",
       "      <td>-0.287849</td>\n",
       "      <td>-0.591174</td>\n",
       "      <td>1.156255</td>\n",
       "      <td>0.833235</td>\n",
       "      <td>-0.503753</td>\n",
       "      <td>-0.740571</td>\n",
       "      <td>-1.280208</td>\n",
       "      <td>-0.205157</td>\n",
       "      <td>0.404512</td>\n",
       "      <td>-1.077756</td>\n",
       "    </tr>\n",
       "    <tr>\n",
       "      <th>1</th>\n",
       "      <td>1.0</td>\n",
       "      <td>1.132752</td>\n",
       "      <td>0.867318</td>\n",
       "      <td>0.046312</td>\n",
       "      <td>-0.403390</td>\n",
       "      <td>0.173093</td>\n",
       "      <td>0.007992</td>\n",
       "      <td>-0.502812</td>\n",
       "      <td>1.218283</td>\n",
       "      <td>3.474042</td>\n",
       "      <td>2.628380</td>\n",
       "      <td>-0.238475</td>\n",
       "      <td>0.486246</td>\n",
       "      <td>-0.956440</td>\n",
       "      <td>-0.507741</td>\n",
       "      <td>-0.013937</td>\n",
       "      <td>-1.576252</td>\n",
       "      <td>-3.098037</td>\n",
       "      <td>0.351165</td>\n",
       "    </tr>\n",
       "    <tr>\n",
       "      <th>2</th>\n",
       "      <td>1.0</td>\n",
       "      <td>0.478280</td>\n",
       "      <td>1.375407</td>\n",
       "      <td>0.035846</td>\n",
       "      <td>0.100764</td>\n",
       "      <td>-0.630738</td>\n",
       "      <td>-0.413450</td>\n",
       "      <td>0.364381</td>\n",
       "      <td>-1.121792</td>\n",
       "      <td>-0.287849</td>\n",
       "      <td>-0.970291</td>\n",
       "      <td>2.080976</td>\n",
       "      <td>-0.167973</td>\n",
       "      <td>0.441388</td>\n",
       "      <td>-0.507741</td>\n",
       "      <td>-1.141522</td>\n",
       "      <td>-1.487795</td>\n",
       "      <td>0.326591</td>\n",
       "      <td>-1.226252</td>\n",
       "    </tr>\n",
       "  </tbody>\n",
       "</table>\n",
       "</div>"
      ],
      "text/plain": [
       "   const        R1        R2        R3        R4        R5        X1  \\\n",
       "0    1.0 -1.692906  0.245167 -0.393282  1.390237  1.175517 -0.406795   \n",
       "1    1.0  1.132752  0.867318  0.046312 -0.403390  0.173093  0.007992   \n",
       "2    1.0  0.478280  1.375407  0.035846  0.100764 -0.630738 -0.413450   \n",
       "\n",
       "         X2        X3        X4        X5        X6        X7        X8  \\\n",
       "0 -0.502812 -1.247076 -0.287849 -0.591174  1.156255  0.833235 -0.503753   \n",
       "1 -0.502812  1.218283  3.474042  2.628380 -0.238475  0.486246 -0.956440   \n",
       "2  0.364381 -1.121792 -0.287849 -0.970291  2.080976 -0.167973  0.441388   \n",
       "\n",
       "         X9       X10       X11       X12       X13  \n",
       "0 -0.740571 -1.280208 -0.205157  0.404512 -1.077756  \n",
       "1 -0.507741 -0.013937 -1.576252 -3.098037  0.351165  \n",
       "2 -0.507741 -1.141522 -1.487795  0.326591 -1.226252  "
      ]
     },
     "execution_count": 27,
     "metadata": {},
     "output_type": "execute_result"
    }
   ],
   "source": [
    "Xppd_train_n.head(3)"
   ]
  },
  {
   "cell_type": "markdown",
   "metadata": {},
   "source": [
    "#### instanciation et détails"
   ]
  },
  {
   "cell_type": "markdown",
   "metadata": {},
   "source": [
    "On applique une procédure par élimination successive des variables en supprimant celle qui a la plus grande valeure de p-values (supérieure à 0.05).\n",
    "\n",
    "Dans notre cas on a supprimé successivement 'R3' , 'X7' , 'X3' , 'R1' , 'R2' , 'R5' , 'R4' , 'X2' puis 'X10'"
   ]
  },
  {
   "cell_type": "code",
   "execution_count": 28,
   "metadata": {},
   "outputs": [
    {
     "name": "stdout",
     "output_type": "stream",
     "text": [
      "                            OLS Regression Results                            \n",
      "==============================================================================\n",
      "Dep. Variable:                      y   R-squared:                       0.743\n",
      "Model:                            OLS   Adj. R-squared:                  0.737\n",
      "Method:                 Least Squares   F-statistic:                     118.6\n",
      "Date:                Tue, 02 Mar 2021   Prob (F-statistic):          3.51e-103\n",
      "Time:                        16:26:35   Log-Likelihood:                -1130.2\n",
      "No. Observations:                 379   AIC:                             2280.\n",
      "Df Residuals:                     369   BIC:                             2320.\n",
      "Df Model:                           9                                         \n",
      "Covariance Type:            nonrobust                                         \n",
      "==============================================================================\n",
      "                 coef    std err          t      P>|t|      [0.025      0.975]\n",
      "------------------------------------------------------------------------------\n",
      "const         22.9079      0.248     92.188      0.000      22.419      23.397\n",
      "X1            -1.0293      0.327     -3.150      0.002      -1.672      -0.387\n",
      "X4             0.7943      0.258      3.080      0.002       0.287       1.302\n",
      "X5            -2.2208      0.475     -4.677      0.000      -3.154      -1.287\n",
      "X6             3.2090      0.332      9.655      0.000       2.555       3.863\n",
      "X8            -2.5051      0.403     -6.223      0.000      -3.297      -1.714\n",
      "X9             1.0957      0.411      2.667      0.008       0.288       1.904\n",
      "X11           -2.3322      0.313     -7.451      0.000      -2.948      -1.717\n",
      "X12            1.1697      0.278      4.207      0.000       0.623       1.716\n",
      "X13           -3.7288      0.395     -9.439      0.000      -4.506      -2.952\n",
      "==============================================================================\n",
      "Omnibus:                      119.301   Durbin-Watson:                   2.120\n",
      "Prob(Omnibus):                  0.000   Jarque-Bera (JB):              480.976\n",
      "Skew:                           1.329   Prob(JB):                    3.61e-105\n",
      "Kurtosis:                       7.837   Cond. No.                         4.78\n",
      "==============================================================================\n",
      "\n",
      "Notes:\n",
      "[1] Standard Errors assume that the covariance matrix of the errors is correctly specified.\n"
     ]
    }
   ],
   "source": [
    "reg = sm.OLS(np.array(Y_train), \n",
    "             Xppd_train_n.drop(['R3','X7','X3','R1','R2','R5','R4','X2','X10'],\n",
    "                               axis=1)).fit()\n",
    "print(reg.summary())"
   ]
  },
  {
   "cell_type": "markdown",
   "metadata": {},
   "source": [
    "#### Évaluation du modèle"
   ]
  },
  {
   "cell_type": "code",
   "execution_count": 29,
   "metadata": {},
   "outputs": [],
   "source": [
    "# Extraction des variables retenues en supprimant celles qui ne nous intéressent pas.\n",
    "Xppd_train_n = Xppd_train_n.drop(['R3','R2','R5','X7','X3','R4','R1','X10','X2'],\n",
    "                                 axis=1)"
   ]
  },
  {
   "cell_type": "code",
   "execution_count": 30,
   "metadata": {},
   "outputs": [
    {
     "data": {
      "text/html": [
       "<div>\n",
       "<style scoped>\n",
       "    .dataframe tbody tr th:only-of-type {\n",
       "        vertical-align: middle;\n",
       "    }\n",
       "\n",
       "    .dataframe tbody tr th {\n",
       "        vertical-align: top;\n",
       "    }\n",
       "\n",
       "    .dataframe thead th {\n",
       "        text-align: right;\n",
       "    }\n",
       "</style>\n",
       "<table border=\"1\" class=\"dataframe\">\n",
       "  <thead>\n",
       "    <tr style=\"text-align: right;\">\n",
       "      <th></th>\n",
       "      <th>const</th>\n",
       "      <th>X1</th>\n",
       "      <th>X4</th>\n",
       "      <th>X5</th>\n",
       "      <th>X6</th>\n",
       "      <th>X8</th>\n",
       "      <th>X9</th>\n",
       "      <th>X11</th>\n",
       "      <th>X12</th>\n",
       "      <th>X13</th>\n",
       "    </tr>\n",
       "  </thead>\n",
       "  <tbody>\n",
       "    <tr>\n",
       "      <th>0</th>\n",
       "      <td>1.0</td>\n",
       "      <td>-0.406795</td>\n",
       "      <td>-0.287849</td>\n",
       "      <td>-0.591174</td>\n",
       "      <td>1.156255</td>\n",
       "      <td>-0.503753</td>\n",
       "      <td>-0.740571</td>\n",
       "      <td>-0.205157</td>\n",
       "      <td>0.404512</td>\n",
       "      <td>-1.077756</td>\n",
       "    </tr>\n",
       "    <tr>\n",
       "      <th>1</th>\n",
       "      <td>1.0</td>\n",
       "      <td>0.007992</td>\n",
       "      <td>3.474042</td>\n",
       "      <td>2.628380</td>\n",
       "      <td>-0.238475</td>\n",
       "      <td>-0.956440</td>\n",
       "      <td>-0.507741</td>\n",
       "      <td>-1.576252</td>\n",
       "      <td>-3.098037</td>\n",
       "      <td>0.351165</td>\n",
       "    </tr>\n",
       "    <tr>\n",
       "      <th>2</th>\n",
       "      <td>1.0</td>\n",
       "      <td>-0.413450</td>\n",
       "      <td>-0.287849</td>\n",
       "      <td>-0.970291</td>\n",
       "      <td>2.080976</td>\n",
       "      <td>0.441388</td>\n",
       "      <td>-0.507741</td>\n",
       "      <td>-1.487795</td>\n",
       "      <td>0.326591</td>\n",
       "      <td>-1.226252</td>\n",
       "    </tr>\n",
       "  </tbody>\n",
       "</table>\n",
       "</div>"
      ],
      "text/plain": [
       "   const        X1        X4        X5        X6        X8        X9  \\\n",
       "0    1.0 -0.406795 -0.287849 -0.591174  1.156255 -0.503753 -0.740571   \n",
       "1    1.0  0.007992  3.474042  2.628380 -0.238475 -0.956440 -0.507741   \n",
       "2    1.0 -0.413450 -0.287849 -0.970291  2.080976  0.441388 -0.507741   \n",
       "\n",
       "        X11       X12       X13  \n",
       "0 -0.205157  0.404512 -1.077756  \n",
       "1 -1.576252 -3.098037  0.351165  \n",
       "2 -1.487795  0.326591 -1.226252  "
      ]
     },
     "execution_count": 30,
     "metadata": {},
     "output_type": "execute_result"
    }
   ],
   "source": [
    "Xppd_train_n.head(3)"
   ]
  },
  {
   "cell_type": "markdown",
   "metadata": {},
   "source": [
    "On convertit *X_test_n* en dataframe en éliminant en meme temps la première et dernière colonne pour garder seulement les variables explicatives"
   ]
  },
  {
   "cell_type": "code",
   "execution_count": 35,
   "metadata": {},
   "outputs": [],
   "source": [
    "Xppd_test_n = pd.DataFrame(X_test_n, \n",
    "                           columns = Boston_Data.drop(['Unnamed: 0','Y'],\n",
    "                                                      axis=1).columns)"
   ]
  },
  {
   "cell_type": "code",
   "execution_count": 36,
   "metadata": {},
   "outputs": [
    {
     "data": {
      "text/plain": [
       "pandas.core.frame.DataFrame"
      ]
     },
     "execution_count": 36,
     "metadata": {},
     "output_type": "execute_result"
    }
   ],
   "source": [
    "type(Xppd_test_n)"
   ]
  },
  {
   "cell_type": "code",
   "execution_count": 37,
   "metadata": {},
   "outputs": [],
   "source": [
    "# Extraction des variables retenues en supprimant celles qui ne nous intéressent pas.\n",
    "Xppd_test_n = Xppd_test_n.drop(['R3','R2','R5','X7','X3','R4','R1','X10','X2'],\n",
    "                               axis=1)"
   ]
  },
  {
   "cell_type": "markdown",
   "metadata": {},
   "source": [
    "#### Ajout de la colonne \" const \" constituer de 1 a la matrice *Xppd_test_n* (ensemble de test)"
   ]
  },
  {
   "cell_type": "code",
   "execution_count": 38,
   "metadata": {},
   "outputs": [],
   "source": [
    "Xppd_test_n=sm.tools.tools.add_constant(Xppd_test_n , prepend=True , \n",
    "                                        has_constant='skip')"
   ]
  },
  {
   "cell_type": "code",
   "execution_count": 39,
   "metadata": {},
   "outputs": [
    {
     "data": {
      "text/html": [
       "<div>\n",
       "<style scoped>\n",
       "    .dataframe tbody tr th:only-of-type {\n",
       "        vertical-align: middle;\n",
       "    }\n",
       "\n",
       "    .dataframe tbody tr th {\n",
       "        vertical-align: top;\n",
       "    }\n",
       "\n",
       "    .dataframe thead th {\n",
       "        text-align: right;\n",
       "    }\n",
       "</style>\n",
       "<table border=\"1\" class=\"dataframe\">\n",
       "  <thead>\n",
       "    <tr style=\"text-align: right;\">\n",
       "      <th></th>\n",
       "      <th>const</th>\n",
       "      <th>X1</th>\n",
       "      <th>X4</th>\n",
       "      <th>X5</th>\n",
       "      <th>X6</th>\n",
       "      <th>X8</th>\n",
       "      <th>X9</th>\n",
       "      <th>X11</th>\n",
       "      <th>X12</th>\n",
       "      <th>X13</th>\n",
       "    </tr>\n",
       "  </thead>\n",
       "  <tbody>\n",
       "    <tr>\n",
       "      <th>0</th>\n",
       "      <td>1.0</td>\n",
       "      <td>-0.406705</td>\n",
       "      <td>-0.287849</td>\n",
       "      <td>-0.406239</td>\n",
       "      <td>0.128632</td>\n",
       "      <td>-0.529489</td>\n",
       "      <td>-0.507741</td>\n",
       "      <td>-0.735903</td>\n",
       "      <td>0.420302</td>\n",
       "      <td>-0.486575</td>\n",
       "    </tr>\n",
       "    <tr>\n",
       "      <th>1</th>\n",
       "      <td>1.0</td>\n",
       "      <td>-0.410961</td>\n",
       "      <td>3.474042</td>\n",
       "      <td>-0.935826</td>\n",
       "      <td>0.604203</td>\n",
       "      <td>0.148902</td>\n",
       "      <td>-0.624156</td>\n",
       "      <td>-0.293614</td>\n",
       "      <td>0.436321</td>\n",
       "      <td>-1.258473</td>\n",
       "    </tr>\n",
       "    <tr>\n",
       "      <th>2</th>\n",
       "      <td>1.0</td>\n",
       "      <td>-0.405024</td>\n",
       "      <td>-0.287849</td>\n",
       "      <td>0.425970</td>\n",
       "      <td>-0.473480</td>\n",
       "      <td>-0.898332</td>\n",
       "      <td>-0.624156</td>\n",
       "      <td>0.812108</td>\n",
       "      <td>0.358629</td>\n",
       "      <td>0.778440</td>\n",
       "    </tr>\n",
       "  </tbody>\n",
       "</table>\n",
       "</div>"
      ],
      "text/plain": [
       "   const        X1        X4        X5        X6        X8        X9  \\\n",
       "0    1.0 -0.406705 -0.287849 -0.406239  0.128632 -0.529489 -0.507741   \n",
       "1    1.0 -0.410961  3.474042 -0.935826  0.604203  0.148902 -0.624156   \n",
       "2    1.0 -0.405024 -0.287849  0.425970 -0.473480 -0.898332 -0.624156   \n",
       "\n",
       "        X11       X12       X13  \n",
       "0 -0.735903  0.420302 -0.486575  \n",
       "1 -0.293614  0.436321 -1.258473  \n",
       "2  0.812108  0.358629  0.778440  "
      ]
     },
     "execution_count": 39,
     "metadata": {},
     "output_type": "execute_result"
    }
   ],
   "source": [
    "Xppd_test_n.head(3)"
   ]
  },
  {
   "cell_type": "markdown",
   "metadata": {},
   "source": [
    "On utilise deux métriques pour l’évaluation L’erreur quadratique moyenne (l’erreur d’estimation) et le R-square (la qualité du modèle de régression)"
   ]
  },
  {
   "cell_type": "code",
   "execution_count": 86,
   "metadata": {},
   "outputs": [
    {
     "name": "stdout",
     "output_type": "stream",
     "text": [
      "La performance du modèle sur la base dapprentissage\n",
      "--------------------------------------\n",
      "Lerreur quadratique moyenne est 4.773336192339393\n",
      "le score R2 est 0.7430729191945766\n",
      "\n",
      "\n",
      "La performance du modèle sur la base de test\n",
      "--------------------------------------\n",
      "Lerreur quadratique moyenne est 4.877032909593132\n",
      "le score R2 est 0.6603395660591358\n"
     ]
    }
   ],
   "source": [
    "# Evaluation de l'ensemble d'entraînement\n",
    "y_train_predict = reg.predict(Xppd_train_n)\n",
    "err_ppd_train = (np.sqrt(mean_squared_error(Y_train, y_train_predict)))\n",
    "score_ppd_train = r2_score(Y_train, y_train_predict)\n",
    "\n",
    "print('La performance du modèle sur la base dapprentissage')\n",
    "print('--------------------------------------')\n",
    "print('Lerreur quadratique moyenne est {}'.format(err_ppd_train))\n",
    "print('le score R2 est {}'.format(score_ppd_train))\n",
    "print('\\n')\n",
    "\n",
    "# Evaluation de l'ensemble de test\n",
    "y_test_predict = reg.predict(Xppd_test_n)\n",
    "err_ppd_test = (np.sqrt(mean_squared_error(Y_test, y_test_predict)))\n",
    "score_ppd_test = r2_score(Y_test, y_test_predict)\n",
    " \n",
    "print('La performance du modèle sur la base de test')\n",
    "print('--------------------------------------')\n",
    "print('Lerreur quadratique moyenne est {}'.format(err_ppd_test))\n",
    "print('le score R2 est {}'.format(score_ppd_test))"
   ]
  },
  {
   "cell_type": "markdown",
   "metadata": {},
   "source": [
    "L'erreur quadratique moyenne mesure la moyenne des carrés des erreurs, c'est a dire la diférence quadretique myenne entre les valeurs estimées."
   ]
  },
  {
   "cell_type": "markdown",
   "metadata": {},
   "source": [
    "Le R au carré est une mesure de la qualité de l'ajustement pour les modèles de régression linéaire"
   ]
  },
  {
   "cell_type": "markdown",
   "metadata": {},
   "source": [
    "#### Avantages et limites de la Méthode de sélection de variable pas-à-pas descendante"
   ]
  },
  {
   "cell_type": "markdown",
   "metadata": {},
   "source": [
    "#### Avantages"
   ]
  },
  {
   "cell_type": "markdown",
   "metadata": {},
   "source": [
    "C'est une méthode permettant de déterminer les variables à conserver dans un modèle. L'élimination descendante part d'un modèle contenant tous les termes, puis supprime des termes un par un, avec la même méthode que pour la procédure pas à pas. "
   ]
  },
  {
   "cell_type": "markdown",
   "metadata": {},
   "source": [
    "#### Limites"
   ]
  },
  {
   "cell_type": "markdown",
   "metadata": {},
   "source": [
    "Aucune variable exclue ne peut être réintégrée au modèle"
   ]
  },
  {
   "cell_type": "markdown",
   "metadata": {},
   "source": [
    "*******************"
   ]
  },
  {
   "cell_type": "markdown",
   "metadata": {},
   "source": [
    "# III.  régression Ridge "
   ]
  },
  {
   "cell_type": "markdown",
   "metadata": {},
   "source": [
    "1. La régression de ridge permet d'estimer un modèle en présence de covariable fortement corrélés\n",
    "\n",
    "2. La régression de ridge est une méthode de réglage du modèle utilisée pour analyser toutes les données qui souffrent de multicolinéarité. Lorsque le problème de la multicolinéarité se produit, les moindres carrés sont sans biais et les variances sont importantes, ce qui fait que les valeurs prédites sont éloignées des valeurs réelles"
   ]
  },
  {
   "cell_type": "markdown",
   "metadata": {},
   "source": [
    "#### Recherche de la meilleure valeur alpha"
   ]
  },
  {
   "cell_type": "markdown",
   "metadata": {},
   "source": [
    "On doit trouver un coefficient de régularisation adapté. L'objectif est de biaiser un peu la prédiction, afin de diminuer l'erreur standard.\n",
    "\n",
    "On appelle ce coefficient alpha, on va en tester un certain nombre afin de trouver celui qui est optimal."
   ]
  },
  {
   "cell_type": "code",
   "execution_count": 42,
   "metadata": {},
   "outputs": [
    {
     "name": "stdout",
     "output_type": "stream",
     "text": [
      "La meilleure valeure de alpha est :  9.31\n"
     ]
    }
   ],
   "source": [
    "from sklearn.linear_model import RidgeCV\n",
    "import matplotlib.pyplot as plt\n",
    "\n",
    "# a est un hyperparamètre que nous sommes en train de régler, listant les options\n",
    "a = np.arange(0.01,30,0.1)\n",
    "\n",
    "cross_validating_ridge = RidgeCV(alphas=a, store_cv_values=True)\n",
    "cross_validating_ridge.fit(X_train_n, Y_train)\n",
    "\n",
    "# recherche d'erreurs quadratiques moyennes\n",
    "cv_rmse = np.sqrt(np.mean(cross_validating_ridge.cv_values_, axis=0))\n",
    "\n",
    "\n",
    "print(\"La meilleure valeure de alpha est : \", cross_validating_ridge.alpha_)"
   ]
  },
  {
   "cell_type": "code",
   "execution_count": 43,
   "metadata": {},
   "outputs": [],
   "source": [
    "# Créer une régression de Ridge avec une valeur alpha\n",
    "regr = Ridge(alpha=9.31, fit_intercept=True)\n",
    "# Ajuster la régression\n",
    "model = regr.fit(X_train_n, Y_train)"
   ]
  },
  {
   "cell_type": "markdown",
   "metadata": {},
   "source": [
    "On utilise deux métriques pour l’évaluation L’erreur quadratique moyenne (l’erreur d’estimation) et le R-square (la qualité du modèle de régression)"
   ]
  },
  {
   "cell_type": "code",
   "execution_count": 87,
   "metadata": {},
   "outputs": [
    {
     "name": "stdout",
     "output_type": "stream",
     "text": [
      "La performance du modèle sur la base dapprentissage\n",
      "--------------------------------------\n",
      "Lerreur quadratique moyenne est 5.366017142585634\n",
      "le score R2 est 0.6753092268857508\n",
      "\n",
      "\n",
      "La performance du modèle sur la base de test\n",
      "--------------------------------------\n",
      "Lerreur quadratique moyenne est 5.112991189326277\n",
      "le score R2 est 0.6266779203334305\n"
     ]
    }
   ],
   "source": [
    "# Evaluation de l'ensemble d'entraînement\n",
    "y_train_predict = model.predict(X_train_n)\n",
    "err_rr_train = (np.sqrt(mean_squared_error(Y_train, y_train_predict)))\n",
    "score_rr_train = r2_score(Y_train, y_train_predict)\n",
    "\n",
    "print('La performance du modèle sur la base dapprentissage')\n",
    "print('--------------------------------------')\n",
    "print('Lerreur quadratique moyenne est {}'.format(err_rr_train))\n",
    "print('le score R2 est {}'.format(score_rr_train))\n",
    "print('\\n')\n",
    "\n",
    "# Evaluation de l'ensemble de test\n",
    "y_test_predict = model.predict(X_test_n)\n",
    "err_rr_test = (np.sqrt(mean_squared_error(Y_test, y_test_predict)))\n",
    "score_rr_test = r2_score(Y_test, y_test_predict)\n",
    " \n",
    "print('La performance du modèle sur la base de test')\n",
    "print('--------------------------------------')\n",
    "print('Lerreur quadratique moyenne est {}'.format(err_rr_test))\n",
    "print('le score R2 est {}'.format(score_rr_test))"
   ]
  },
  {
   "cell_type": "markdown",
   "metadata": {},
   "source": [
    "L'erreur quadratique moyenne mesure la moyenne des carrés des erreurs, c'est a dire la diférence quadretique myenne entre les valeurs estimées.\n",
    "\n",
    "Le R au carré est une mesure de la qualité de l'ajustement pour les modèles de régression linéaire"
   ]
  },
  {
   "cell_type": "markdown",
   "metadata": {},
   "source": [
    "#### Avantages et limites de la régression Ridge "
   ]
  },
  {
   "cell_type": "markdown",
   "metadata": {},
   "source": [
    "#### - Avantages"
   ]
  },
  {
   "cell_type": "markdown",
   "metadata": {},
   "source": [
    "Les effets de variables explicatrice très corrélées se combinent pour se renforcer mutuellement."
   ]
  },
  {
   "cell_type": "markdown",
   "metadata": {},
   "source": [
    "#### - Limites"
   ]
  },
  {
   "cell_type": "markdown",
   "metadata": {},
   "source": [
    "Toutes les variables incluses initialement dans le modèle final, pas moyen de dire quelles variables sont les plus importantes."
   ]
  },
  {
   "cell_type": "markdown",
   "metadata": {},
   "source": [
    "**********************"
   ]
  },
  {
   "cell_type": "markdown",
   "metadata": {},
   "source": [
    "# IV.  Régression LASSO"
   ]
  },
  {
   "cell_type": "markdown",
   "metadata": {},
   "source": [
    "1. Dans les statistiques et l'apprentissage automatique, le lasso est une méthode d'analyse de régression qui effectue à la fois une sélection et une régularisation de variables afin d'améliorer la précision de prédiction et l'interprétabilité du modèle statistique résultant.\n",
    "2. La regresion par Lasso est un type de régression linéaire qui utilise le retrécissement. Le retrécissement est l'endroit ou les valeurs des données sont réduits vers un piont central, comme la moyenne."
   ]
  },
  {
   "cell_type": "markdown",
   "metadata": {},
   "source": [
    "##### Recherche de la meilleure valeur alpha"
   ]
  },
  {
   "cell_type": "markdown",
   "metadata": {},
   "source": [
    "On doit trouver un coefficient de régularisation adapté. L'objectif est de biaiser un peu la prédiction, afin de diminuer l'erreur standard.\n",
    "\n",
    "On appelle ce coefficient alpha, on va en tester un certain nombre afin de trouver celui qui est optimal."
   ]
  },
  {
   "cell_type": "code",
   "execution_count": 45,
   "metadata": {},
   "outputs": [
    {
     "data": {
      "text/plain": [
       "LassoCV(alphas=array([1.000e-03, 1.000e-02, 2.000e-02, 2.500e-02, 5.000e-02, 1.000e-01,\n",
       "       2.500e-01, 5.000e-01, 8.000e-01, 1.000e+00, 1.001e+00, 1.010e+00,\n",
       "       1.020e+00, 1.050e+00, 2.000e+00]),\n",
       "        cv=5, fit_intercept=False, random_state=42)"
      ]
     },
     "execution_count": 45,
     "metadata": {},
     "output_type": "execute_result"
    }
   ],
   "source": [
    "from sklearn.linear_model import LassoCV\n",
    "#obtention des valeurs des coefs. corresp.\n",
    "from sklearn.linear_model import lasso_path\n",
    "\n",
    "my_alphas = np.array([0.001,0.01,0.02,0.025,0.05,0.1,0.25,0.5,\n",
    "                      0.8,1.0,1.001,1.01,1.02,1.05,2])\n",
    "#my_alphas = np.arange(0.01,30,0.1)\n",
    "\n",
    "#outil pour la détection de la solution la plus performante en validation croisée\n",
    "#random_state = 0 pour fixer l’initialisation du générateur de nombre aléatoire\n",
    "#cv = 5 pour 5-fold validation croisée\n",
    "lcv = LassoCV(alphas=my_alphas,normalize=False,fit_intercept=False,\n",
    "              random_state=42,cv=5)\n",
    "\n",
    "#lancement sur l'échantillon d'apprentissage\n",
    "lcv.fit(X_train_n, Y_train)"
   ]
  },
  {
   "cell_type": "code",
   "execution_count": 46,
   "metadata": {},
   "outputs": [
    {
     "data": {
      "image/png": "[encoded data removed]",
      "text/plain": [
       "<Figure size 432x288 with 1 Axes>"
      ]
     },
     "metadata": {
      "needs_background": "light"
     },
     "output_type": "display_data"
    },
    {
     "name": "stdout",
     "output_type": "stream",
     "text": [
      "La meilleure valeure de alpha est : : 1.05\n"
     ]
    }
   ],
   "source": [
    "#moyenne mse en validation croisée pour chaque alpha\n",
    "avg_rmse = np.sqrt(np.mean(lcv.mse_path_,axis=1))\n",
    "#sous-forme graphique\n",
    "plt.plot(lcv.alphas_,avg_rmse)\n",
    "plt.xlabel('Alpha')\n",
    "plt.ylabel('MSE')\n",
    "plt.title('MSE vs. Alpha')\n",
    "plt.show()\n",
    "print(\"La meilleure valeure de alpha est : :\",lcv.alpha_)"
   ]
  },
  {
   "cell_type": "code",
   "execution_count": 47,
   "metadata": {},
   "outputs": [
    {
     "data": {
      "text/plain": [
       "Lasso(alpha=1.05)"
      ]
     },
     "execution_count": 47,
     "metadata": {},
     "output_type": "execute_result"
    }
   ],
   "source": [
    "# Créer une régression Lasso avec une valeur alpha\n",
    "model = Lasso(alpha=1.05, fit_intercept=True)\n",
    "# Ajuster la régression\n",
    "model.fit(X_train_n, Y_train)"
   ]
  },
  {
   "cell_type": "markdown",
   "metadata": {},
   "source": [
    "On utilise deux métriques pour l’évaluation L’erreur quadratique moyenne (l’erreur d’estimation) et le R-square (la qualité du modèle de régression)"
   ]
  },
  {
   "cell_type": "code",
   "execution_count": 88,
   "metadata": {},
   "outputs": [
    {
     "name": "stdout",
     "output_type": "stream",
     "text": [
      "La performance du modèle sur la base dapprentissage\n",
      "--------------------------------------\n",
      "Lerreur quadratique moyenne est 5.366017142585634\n",
      "le score R2 est 0.6753092268857508\n",
      "\n",
      "\n",
      "La performance du modèle sur la base de test\n",
      "--------------------------------------\n",
      "Lerreur quadratique moyenne est 5.112991189326277\n",
      "le score R2 est 0.6266779203334305\n"
     ]
    }
   ],
   "source": [
    "# Evaluation de l'ensemble d'entraînement\n",
    "y_train_predict = model.predict(X_train_n)\n",
    "err_rl_train = (np.sqrt(mean_squared_error(Y_train, y_train_predict)))\n",
    "score_rl_train = r2_score(Y_train, y_train_predict)\n",
    "\n",
    "print('La performance du modèle sur la base dapprentissage')\n",
    "print('--------------------------------------')\n",
    "print('Lerreur quadratique moyenne est {}'.format(err_rl_train))\n",
    "print('le score R2 est {}'.format(score_rl_train))\n",
    "print('\\n')\n",
    "\n",
    "# Evaluation de l'ensemble d'entraînement\n",
    "y_test_predict = model.predict(X_test_n)\n",
    "err_rl_test = (np.sqrt(mean_squared_error(Y_test, y_test_predict)))\n",
    "score_rl_test = r2_score(Y_test, y_test_predict)\n",
    " \n",
    "print('La performance du modèle sur la base de test')\n",
    "print('--------------------------------------')\n",
    "print('Lerreur quadratique moyenne est {}'.format(err_rl_test))\n",
    "print('le score R2 est {}'.format(score_rl_test))"
   ]
  },
  {
   "cell_type": "markdown",
   "metadata": {},
   "source": [
    "L'erreur quadratique moyenne mesure la moyenne des carrés des erreurs, c'est a dire la diférence quadretique myenne entre les valeurs estimées.\n",
    "\n",
    "Le R au carré est une mesure de la qualité de l'ajustement pour les modèles de régression linéaire"
   ]
  },
  {
   "cell_type": "code",
   "execution_count": 41,
   "metadata": {},
   "outputs": [
    {
     "data": {
      "text/plain": [
       "array([ 0.        , -0.        , -0.        ,  0.        , -0.        ,\n",
       "       -0.29544932,  0.        , -0.        ,  0.44036194, -0.        ,\n",
       "        3.24785174, -0.        , -0.25862304, -0.        , -0.        ,\n",
       "       -1.47806623,  0.76246127, -3.67407282])"
      ]
     },
     "execution_count": 41,
     "metadata": {},
     "output_type": "execute_result"
    }
   ],
   "source": [
    "model.coef_"
   ]
  },
  {
   "cell_type": "markdown",
   "metadata": {},
   "source": [
    "LASSO fait office de dispositif de sélection de variables en annulant certains coefficients βj : les variables associées à (βj = 0) sont de facto exclues du modèle prédictif."
   ]
  },
  {
   "cell_type": "markdown",
   "metadata": {},
   "source": [
    "#### Avantages et limites de la régression Lasso "
   ]
  },
  {
   "cell_type": "markdown",
   "metadata": {},
   "source": [
    "#### - Avantages"
   ]
  },
  {
   "cell_type": "markdown",
   "metadata": {},
   "source": [
    "Les effets peu important sont estimés à 0, donc le modèle  sélectionné aura un nombre de variables d<p."
   ]
  },
  {
   "cell_type": "markdown",
   "metadata": {},
   "source": [
    "#### - Limites"
   ]
  },
  {
   "cell_type": "markdown",
   "metadata": {},
   "source": [
    "En présence de variables explicatrice corrélées, le Lasso en choisit une arbitrairement et met les autres à 0."
   ]
  },
  {
   "cell_type": "markdown",
   "metadata": {},
   "source": [
    "*********************************"
   ]
  },
  {
   "cell_type": "markdown",
   "metadata": {},
   "source": [
    "## V.  Comparaison des différents modèle de régression étudiés dans ce document"
   ]
  },
  {
   "cell_type": "code",
   "execution_count": 90,
   "metadata": {},
   "outputs": [
    {
     "data": {
      "image/png": "[encoded data removed]",
      "text/plain": [
       "<Figure size 432x288 with 1 Axes>"
      ]
     },
     "metadata": {
      "needs_background": "light"
     },
     "output_type": "display_data"
    }
   ],
   "source": [
    "import matplotlib\n",
    "import matplotlib.pyplot as plt\n",
    "import numpy as np\n",
    "\n",
    "\n",
    "labels = ['Reg. multiple', 'S.V. desc', 'Rég. Ridge', 'Rég. Lasso']\n",
    "men_means = [err_rlm_train, err_ppd_train, err_rr_train, err_rl_train]\n",
    "women_means = [score_rlm_train, score_ppd_train, score_rr_train, score_rl_train]\n",
    "\n",
    "x = np.arange(len(labels))  # the label locations\n",
    "width = 0.15  # the width of the bars\n",
    "\n",
    "fig, ax = plt.subplots()\n",
    "rects1 = ax.bar(x - width/2, men_means, width, label='erreur quadratique moyenne')\n",
    "rects2 = ax.bar(x + width/2, women_means, width, label='score R2')\n",
    "\n",
    "# Le titre et les étiquettes de graduation personnalisées\n",
    "ax.set_ylabel('Scores - Erreur')\n",
    "ax.set_title(\"Evaluation de l'ensemble d'entraînement\")\n",
    "ax.set_xticks(x)\n",
    "ax.set_xticklabels(labels)\n",
    "ax.legend()\n",
    "\n",
    "fig.tight_layout()\n",
    "\n",
    "plt.show()"
   ]
  },
  {
   "cell_type": "markdown",
   "metadata": {},
   "source": [
    "1. On remarque que la méthode de *sélection de variable pas-à-pas descendante* à une plus grande valeur du score R² et moins de valeur pour l'erreur quadrique moyenne sur l'ensemble d'entainement."
   ]
  },
  {
   "cell_type": "code",
   "execution_count": 92,
   "metadata": {},
   "outputs": [
    {
     "data": {
      "image/png": "[encoded data removed]",
      "text/plain": [
       "<Figure size 432x288 with 1 Axes>"
      ]
     },
     "metadata": {
      "needs_background": "light"
     },
     "output_type": "display_data"
    }
   ],
   "source": [
    "import matplotlib\n",
    "import matplotlib.pyplot as plt\n",
    "import numpy as np\n",
    "\n",
    "\n",
    "labels = ['Reg. multiple', 'S.V. desc', 'Rég. Ridge', 'Rég. Lasso']\n",
    "men_means = [err_rlm_test, err_ppd_test, err_rr_test, err_rl_test]\n",
    "women_means = [score_rlm_test, score_ppd_test, score_rr_test, score_rl_test]\n",
    "\n",
    "x = np.arange(len(labels))  # the label locations\n",
    "width = 0.15  # the width of the bars\n",
    "\n",
    "fig, ax = plt.subplots()\n",
    "rects1 = ax.bar(x - width/2, men_means, width, label='erreur quadratique moyenne')\n",
    "rects2 = ax.bar(x + width/2, women_means, width, label='score R2')\n",
    "\n",
    "# Add some text for labels, title and custom x-axis tick labels, etc.\n",
    "ax.set_ylabel('Scores - Erreur')\n",
    "ax.set_title(\"Evaluation de l'ensemble de test\")\n",
    "ax.set_xticks(x)\n",
    "ax.set_xticklabels(labels)\n",
    "ax.legend()\n",
    "\n",
    "fig.tight_layout()\n",
    "\n",
    "plt.show()"
   ]
  },
  {
   "cell_type": "markdown",
   "metadata": {},
   "source": [
    "2. On remarque que la méthode de *sélection de variable pas-à-pas descendante* à une plus grande valeur du score R² et moins de valeur pour l'erreur quadrique moyenne sur l'ensemble de test."
   ]
  },
  {
   "cell_type": "markdown",
   "metadata": {},
   "source": [
    "##### D'apprès 1. et 2. *la méthode de sélection de variable pas-à-pas descendante* est le meilleur modèle pour ce dataset.\n",
    "\n",
    "Ce pendant il faut noter que chaque modèle a ses avantages et limites et plus performant selon les contextes."
   ]
  }
 ],
 "metadata": {
  "kernelspec": {
   "display_name": "Python 3",
   "language": "python",
   "name": "python3"
  },
  "language_info": {
   "codemirror_mode": {
    "name": "ipython",
    "version": 3
   },
   "file_extension": ".py",
   "mimetype": "text/x-python",
   "name": "python",
   "nbconvert_exporter": "python",
   "pygments_lexer": "ipython3",
   "version": "3.8.5"
  }
 },
 "nbformat": 4,
 "nbformat_minor": 4
}
